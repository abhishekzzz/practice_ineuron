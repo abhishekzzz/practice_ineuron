{
 "cells": [
  {
   "cell_type": "code",
   "execution_count": 37,
   "id": "d047f041-3252-40e9-b878-04143bd59e23",
   "metadata": {},
   "outputs": [],
   "source": [
    "class Car:\n",
    "    pass"
   ]
  },
  {
   "cell_type": "code",
   "execution_count": 39,
   "id": "deb80771-f598-48c3-9c1e-1be774c2d9b2",
   "metadata": {},
   "outputs": [],
   "source": [
    "audi=Car()"
   ]
  },
  {
   "cell_type": "code",
   "execution_count": 41,
   "id": "965182d7-27fb-44ba-9163-ffc84d972891",
   "metadata": {},
   "outputs": [],
   "source": [
    "audi.year=2006\n",
    "audi.milage=10\n",
    "audi.make=345\n",
    "audi.model=\"abc\""
   ]
  },
  {
   "cell_type": "code",
   "execution_count": 43,
   "id": "ef7d2d54-79b3-48e8-aeac-98358171d46b",
   "metadata": {},
   "outputs": [
    {
     "data": {
      "text/plain": [
       "345"
      ]
     },
     "execution_count": 43,
     "metadata": {},
     "output_type": "execute_result"
    }
   ],
   "source": [
    "audi.make"
   ]
  },
  {
   "cell_type": "code",
   "execution_count": 45,
   "id": "ab08e6fa-f7d5-4067-8b25-666795ab561e",
   "metadata": {},
   "outputs": [
    {
     "data": {
      "text/plain": [
       "10"
      ]
     },
     "execution_count": 45,
     "metadata": {},
     "output_type": "execute_result"
    }
   ],
   "source": [
    "audi.milage"
   ]
  },
  {
   "cell_type": "code",
   "execution_count": 47,
   "id": "6553c5ca-7b37-45a2-9263-42d5a858c180",
   "metadata": {},
   "outputs": [
    {
     "data": {
      "text/plain": [
       "345"
      ]
     },
     "execution_count": 47,
     "metadata": {},
     "output_type": "execute_result"
    }
   ],
   "source": [
    "audi.make"
   ]
  },
  {
   "cell_type": "code",
   "execution_count": 49,
   "id": "e211f3a9-db72-4b84-98e8-0e52bd1dae07",
   "metadata": {},
   "outputs": [
    {
     "data": {
      "text/plain": [
       "'abc'"
      ]
     },
     "execution_count": 49,
     "metadata": {},
     "output_type": "execute_result"
    }
   ],
   "source": [
    "audi.model"
   ]
  },
  {
   "cell_type": "code",
   "execution_count": 51,
   "id": "1f8d41f9-0a48-47c3-9f56-193623977eb1",
   "metadata": {},
   "outputs": [
    {
     "data": {
      "text/plain": [
       "2006"
      ]
     },
     "execution_count": 51,
     "metadata": {},
     "output_type": "execute_result"
    }
   ],
   "source": [
    "audi.year"
   ]
  },
  {
   "cell_type": "code",
   "execution_count": 53,
   "id": "d1d66d51-2040-45c9-9590-2795c9eaf5f3",
   "metadata": {},
   "outputs": [],
   "source": [
    "nano = Car()"
   ]
  },
  {
   "cell_type": "code",
   "execution_count": 55,
   "id": "15253ffc-cac2-4bb8-9eb8-6bc91da9b930",
   "metadata": {},
   "outputs": [],
   "source": [
    "nano.year=2007\n",
    "nano.milage=67\n",
    "nano.make=67\n",
    "nano.model=\"xyz\""
   ]
  },
  {
   "cell_type": "code",
   "execution_count": 61,
   "id": "6b9c0600-0111-493e-a255-e3d046dab767",
   "metadata": {},
   "outputs": [],
   "source": [
    "class Car:\n",
    "    def __init__(self,milage,make,year,model):\n",
    "        self.milage=milage\n",
    "        self.year=year\n",
    "        self.make=make\n",
    "        self.model=model"
   ]
  },
  {
   "cell_type": "code",
   "execution_count": 65,
   "id": "3a045e3f-0854-4a5a-a15f-e7c11ca4f3ed",
   "metadata": {},
   "outputs": [],
   "source": [
    "nano1=Car(10,2009,45,\"jdsk\")\n",
    "nano2=Car(10,2009,45,\"jdsk\")\n",
    "nano3=Car(10,2009,45,\"jdsk\")\n",
    "nano4=Car(10,2009,45,\"jdsk\")\n",
    "nano5=Car(10,2009,45,\"jdsk\")\n",
    "nano6=Car(10,2009,45,\"jdsk\")\n"
   ]
  },
  {
   "cell_type": "code",
   "execution_count": 165,
   "id": "7eafb9f6-92bf-47f5-919f-f382afd10eb2",
   "metadata": {},
   "outputs": [],
   "source": [
    "class Car:\n",
    "    def __init__(a,m,y,ma,mo):\n",
    "        a.milage=m\n",
    "        a.year=y\n",
    "        a.make=ma\n",
    "        a.model=mo\n",
    "\n",
    "    def age(b,current_year):\n",
    "        return current_year-b.year\n",
    "\n",
    "    def milage1(self):\n",
    "        print(f'Print a milage of the car {self.milage}')\n",
    "\n",
    "    def __str__(c):\n",
    "        return \"this is from class i have created\""
   ]
  },
  {
   "cell_type": "code",
   "execution_count": 167,
   "id": "85c59294-e113-45d6-ad84-06bfeb84d76b",
   "metadata": {},
   "outputs": [],
   "source": [
    "nano23=Car(10,2009,45,\"dbskjcbdskcbnsdk\")"
   ]
  },
  {
   "cell_type": "code",
   "execution_count": 169,
   "id": "35b8fb06-935f-4bf0-9ab7-cd7dd6d327bd",
   "metadata": {},
   "outputs": [
    {
     "ename": "TypeError",
     "evalue": "Car.age() missing 1 required positional argument: 'current_year'",
     "output_type": "error",
     "traceback": [
      "\u001b[1;31m---------------------------------------------------------------------------\u001b[0m",
      "\u001b[1;31mTypeError\u001b[0m                                 Traceback (most recent call last)",
      "Cell \u001b[1;32mIn[169], line 1\u001b[0m\n\u001b[1;32m----> 1\u001b[0m nano23\u001b[38;5;241m.\u001b[39mage()\n",
      "\u001b[1;31mTypeError\u001b[0m: Car.age() missing 1 required positional argument: 'current_year'"
     ]
    }
   ],
   "source": [
    "nano23.age()"
   ]
  },
  {
   "cell_type": "code",
   "execution_count": 171,
   "id": "d8cbf8ac-345a-4129-9e0c-fa212095e041",
   "metadata": {},
   "outputs": [
    {
     "data": {
      "text/plain": [
       "15"
      ]
     },
     "execution_count": 171,
     "metadata": {},
     "output_type": "execute_result"
    }
   ],
   "source": [
    "nano23.age(2024)"
   ]
  },
  {
   "cell_type": "code",
   "execution_count": 173,
   "id": "710d8564-a4e3-41a1-a970-298c1b1db535",
   "metadata": {},
   "outputs": [
    {
     "data": {
      "text/plain": [
       "10"
      ]
     },
     "execution_count": 173,
     "metadata": {},
     "output_type": "execute_result"
    }
   ],
   "source": [
    "nano23.milage"
   ]
  },
  {
   "cell_type": "code",
   "execution_count": 157,
   "id": "39a15833-c3ad-46fd-908f-9b91bc5b3bb0",
   "metadata": {},
   "outputs": [
    {
     "name": "stdout",
     "output_type": "stream",
     "text": [
      "Print a milage of the car 10\n"
     ]
    }
   ],
   "source": [
    "nano23.milage1()"
   ]
  },
  {
   "cell_type": "code",
   "execution_count": 183,
   "id": "a1ec46c5-0466-4d6b-ac7a-6e69f59e8d97",
   "metadata": {},
   "outputs": [],
   "source": [
    "#if I want to print a method use __str__"
   ]
  },
  {
   "cell_type": "code",
   "execution_count": 185,
   "id": "8b478e11-cb77-48b4-8c29-3d0807d3feb1",
   "metadata": {},
   "outputs": [
    {
     "name": "stdout",
     "output_type": "stream",
     "text": [
      "this is from class i have created\n"
     ]
    }
   ],
   "source": [
    "print(nano23)"
   ]
  },
  {
   "cell_type": "code",
   "execution_count": 197,
   "id": "706718d1-c95b-4bad-96a2-102ea7337569",
   "metadata": {},
   "outputs": [],
   "source": [
    "class Car:\n",
    "    def __init__(a,m,y,ma,mo):\n",
    "        a.milage=m\n",
    "        a.year=y\n",
    "        a.make=ma\n",
    "        a.model=mo\n",
    "\n",
    "    def age(a,current_year):\n",
    "        return current_year-a.year\n",
    "\n",
    "    def milage1(a):\n",
    "        print(f'Print a milage of the car {a.milage}')\n",
    "    def __str__(c):\n",
    "        return \"this is from class i have created\""
   ]
  },
  {
   "cell_type": "code",
   "execution_count": 189,
   "id": "c8607b94-4f05-46ae-a107-7497e2bea8fa",
   "metadata": {},
   "outputs": [
    {
     "name": "stdout",
     "output_type": "stream",
     "text": [
      "this is from class i have created\n"
     ]
    }
   ],
   "source": [
    "print(nano23)"
   ]
  },
  {
   "cell_type": "code",
   "execution_count": 191,
   "id": "229fbeb4-4919-4963-81e1-e9e492006174",
   "metadata": {},
   "outputs": [
    {
     "ename": "TypeError",
     "evalue": "'Car' object is not callable",
     "output_type": "error",
     "traceback": [
      "\u001b[1;31m---------------------------------------------------------------------------\u001b[0m",
      "\u001b[1;31mTypeError\u001b[0m                                 Traceback (most recent call last)",
      "Cell \u001b[1;32mIn[191], line 1\u001b[0m\n\u001b[1;32m----> 1\u001b[0m \u001b[38;5;28mprint\u001b[39m(nano23())\n",
      "\u001b[1;31mTypeError\u001b[0m: 'Car' object is not callable"
     ]
    }
   ],
   "source": [
    "print(nano23())"
   ]
  },
  {
   "cell_type": "code",
   "execution_count": 193,
   "id": "85fc3f4e-be7d-4eaa-bb59-86472df27cb1",
   "metadata": {},
   "outputs": [],
   "source": [
    "#if I want to print a method use __str__"
   ]
  },
  {
   "cell_type": "code",
   "execution_count": null,
   "id": "7d98fdee-cf9c-4560-92de-6908033f762b",
   "metadata": {},
   "outputs": [],
   "source": []
  }
 ],
 "metadata": {
  "kernelspec": {
   "display_name": "Python 3 (ipykernel)",
   "language": "python",
   "name": "python3"
  },
  "language_info": {
   "codemirror_mode": {
    "name": "ipython",
    "version": 3
   },
   "file_extension": ".py",
   "mimetype": "text/x-python",
   "name": "python",
   "nbconvert_exporter": "python",
   "pygments_lexer": "ipython3",
   "version": "3.12.4"
  }
 },
 "nbformat": 4,
 "nbformat_minor": 5
}
