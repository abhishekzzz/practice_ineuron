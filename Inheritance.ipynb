{
 "cells": [
  {
   "cell_type": "code",
   "execution_count": 1,
   "id": "b0e0a085-e8d5-4521-8ab0-a0b7015cb4b2",
   "metadata": {},
   "outputs": [],
   "source": [
    "# Certainly! Let's explore inheritance in Python and discuss the different types of inheritance. Inheritance is a fundamental concept in object-oriented programming (OOP) that allows one class to inherit properties and behaviors from another class. It promotes code reusability and helps create meaningful relationships between classes.\n",
    "\n",
    "# ## Basics of Inheritance\n",
    "\n",
    "# In Python, we have two key terms related to inheritance:\n",
    "\n",
    "# 1. **Parent Class (Superclass or Base Class):**\n",
    "#    - The class that is being inherited from is called the parent class.\n",
    "#    - It provides the common attributes and methods that can be shared by its child classes.\n",
    "\n",
    "# 2. **Child Class (Subclass or Derived Class):**\n",
    "#    - The class that inherits from the parent class is called the child class.\n",
    "#    - It can add its own attributes and methods or override those inherited from the parent class.\n",
    "\n",
    "# Now, let's dive into the different types of inheritance:\n",
    "\n",
    "# ### 1. Single Inheritance\n",
    "\n",
    "# In single inheritance, a child class inherits from only one parent class. It's the most basic type of inheritance.\n",
    "\n",
    "# Example:\n",
    "# ```python\n",
    "# class Person:\n",
    "#     def __init__(self, name):\n",
    "#         self.name = name\n",
    "\n",
    "# class Student(Person):\n",
    "#     def study(self):\n",
    "#         print(f\"{self.name} is studying.\")\n",
    "\n",
    "# # Creating an instance of Student\n",
    "# student = Student(\"Alice\")\n",
    "# student.study()  # Output: Alice is studying.\n",
    "# ```\n",
    "\n",
    "# In this example, `Student` inherits from `Person`.\n",
    "\n",
    "# ### 2. Multiple Inheritance\n",
    "\n",
    "# Multiple inheritance occurs when a child class inherits from two or more parent classes. Unlike some other languages (such as Java), Python supports multiple inheritance.\n",
    "\n",
    "# Example:\n",
    "# ```python\n",
    "# class A:\n",
    "#     def method_A(self):\n",
    "#         print(\"Method from class A\")\n",
    "\n",
    "# class B:\n",
    "#     def method_B(self):\n",
    "#         print(\"Method from class B\")\n",
    "\n",
    "# class C(A, B):\n",
    "#     def method_C(self):\n",
    "#         print(\"Method from class C\")\n",
    "\n",
    "# # Creating an instance of C\n",
    "# obj = C()\n",
    "# obj.method_A()  # Output: Method from class A\n",
    "# obj.method_B()  # Output: Method from class B\n",
    "# obj.method_C()  # Output: Method from class C\n",
    "# ```\n",
    "\n",
    "# In this example, `C` inherits from both `A` and `B`.\n",
    "\n",
    "# ### 3. Multilevel Inheritance\n",
    "\n",
    "# Multilevel inheritance involves a chain of inheritance where a child class inherits from a parent class, which itself inherits from another parent class.\n",
    "\n",
    "# Example:\n",
    "# ```python\n",
    "# class Grandparent:\n",
    "#     def greet(self):\n",
    "#         print(\"Hello from Grandparent\")\n",
    "\n",
    "# class Parent(Grandparent):\n",
    "#     def talk(self):\n",
    "#         print(\"Parent is talking\")\n",
    "\n",
    "# class Child(Parent):\n",
    "#     def play(self):\n",
    "#         print(\"Child is playing\")\n",
    "\n",
    "# # Creating an instance of Child\n",
    "# child = Child()\n",
    "# child.greet()  # Output: Hello from Grandparent\n",
    "# child.talk()   # Output: Parent is talking\n",
    "# child.play()   # Output: Child is playing\n",
    "# ```\n",
    "\n",
    "# Here, `Child` inherits from `Parent`, which in turn inherits from `Grandparent`.\n",
    "\n",
    "# ### 4. Hierarchical Inheritance\n",
    "\n",
    "# In hierarchical inheritance, multiple child classes inherit from a single parent class.\n",
    "\n",
    "# Example:\n",
    "# ```python\n",
    "# class Animal:\n",
    "#     def speak(self):\n",
    "#         print(\"Animal speaks\")\n",
    "\n",
    "# class Dog(Animal):\n",
    "#     def bark(self):\n",
    "#         print(\"Dog barks\")\n",
    "\n",
    "# class Cat(Animal):\n",
    "#     def meow(self):\n",
    "#         print(\"Cat meows\")\n",
    "\n",
    "# # Creating instances of Dog and Cat\n",
    "# dog = Dog()\n",
    "# cat = Cat()\n",
    "\n",
    "# dog.speak()  # Output: Animal speaks\n",
    "# cat.speak()  # Output: Animal speaks\n",
    "# dog.bark()   # Output: Dog barks\n",
    "# cat.meow()   # Output: Cat meows\n",
    "# ```\n",
    "\n",
    "# Both `Dog` and `Cat` inherit from `Animal`.\n",
    "\n",
    "# ### 5. Hybrid Inheritance\n",
    "\n",
    "# Hybrid inheritance is a combination of any of the above types. It's less common but can occur in complex class hierarchies.\n",
    "\n",
    "# Remember that choosing the right type of inheritance depends on your specific problem domain and design considerations. Each type has its own use cases and trade-offs.\n",
    "\n",
    "# Feel free to experiment with these concepts and create your own class hierarchies! If you have any more questions or need further clarification, feel free to ask. 😊🐍\n",
    "# [Learn more](https://pythongeeks.org/inheritance-in-python/) ¹²³⁴⁵\n",
    "\n",
    "# Source: Conversation with Copilot, 16/7/2024\n",
    "# (1) Inheritance in Python with Types and Examples. https://pythongeeks.org/inheritance-in-python/.\n",
    "# (2) Python Inheritance (With Examples) - Programiz. https://www.programiz.com/python-programming/inheritance.\n",
    "# (3) Inheritance in Python (Guide) – PYnative. https://pynative.com/python-inheritance/.\n",
    "# (4) Python Inheritance - W3Schools. https://www.w3schools.com/python/python_inheritance.asp.\n",
    "# (5) Types of inheritance Python - GeeksforGeeks. https://www.geeksforgeeks.org/types-of-inheritance-python/."
   ]
  },
  {
   "cell_type": "code",
   "execution_count": 3,
   "id": "5bcd0fe7-15b3-44aa-a315-b0c4716b30e3",
   "metadata": {},
   "outputs": [],
   "source": [
    "#single Inheritance"
   ]
  },
  {
   "cell_type": "code",
   "execution_count": 7,
   "id": "75d16bec-d67a-4919-9b07-37c950906ee2",
   "metadata": {},
   "outputs": [],
   "source": [
    "class Parent:\n",
    "    def func1(self):\n",
    "        print(\"Hello from parent class\")\n",
    "        \n",
    "class child(Parent):\n",
    "    def func2(self):\n",
    "        print(\"Hello child\")"
   ]
  },
  {
   "cell_type": "code",
   "execution_count": 9,
   "id": "8688be09-59e2-49f9-b2ca-1382f5565bed",
   "metadata": {},
   "outputs": [],
   "source": [
    "test = child()"
   ]
  },
  {
   "cell_type": "code",
   "execution_count": 11,
   "id": "5ff0202d-26a4-453b-85f5-4d30ade244e2",
   "metadata": {},
   "outputs": [
    {
     "name": "stdout",
     "output_type": "stream",
     "text": [
      "Hello child\n"
     ]
    }
   ],
   "source": [
    "test.func2()"
   ]
  },
  {
   "cell_type": "code",
   "execution_count": 13,
   "id": "cd93a4ee-c74e-42fa-9802-2020ac0694bb",
   "metadata": {},
   "outputs": [
    {
     "name": "stdout",
     "output_type": "stream",
     "text": [
      "Hello from parent class\n"
     ]
    }
   ],
   "source": [
    "test.func1()"
   ]
  },
  {
   "cell_type": "code",
   "execution_count": 15,
   "id": "6b3955ff-1c04-47a0-b304-1c5bbdce3077",
   "metadata": {},
   "outputs": [
    {
     "data": {
      "text/plain": [
       "<bound method Parent.func1 of <__main__.child object at 0x000002A34F7875C0>>"
      ]
     },
     "execution_count": 15,
     "metadata": {},
     "output_type": "execute_result"
    }
   ],
   "source": [
    "test.func1"
   ]
  },
  {
   "cell_type": "code",
   "execution_count": 17,
   "id": "23594bf2-d373-4a8d-9a14-6a3c93c705fc",
   "metadata": {},
   "outputs": [],
   "source": [
    "class Ineuron:\n",
    "    company_website=\"https://ineuron.ai\"\n",
    "    name = \"iNeuron\"\n",
    "\n",
    "    def contact_details(self):\n",
    "        print(\"Contact us at\",self.company_website)\n",
    "\n",
    "class Datascience(Ineuron):\n",
    "\n",
    "    def __init__(self):\n",
    "        self.year_of_establishment = 2018\n",
    "\n",
    "    def est_details(self):\n",
    "        print(\"est details\",self.name,self.year_of_establishment)"
   ]
  },
  {
   "cell_type": "code",
   "execution_count": 19,
   "id": "74746a81-35b2-4bf6-9fd8-0ac5f06239dd",
   "metadata": {},
   "outputs": [],
   "source": [
    "ds=Datascience()"
   ]
  },
  {
   "cell_type": "code",
   "execution_count": 23,
   "id": "c1496ae3-9b24-41c8-b3d8-3e66ccb7db64",
   "metadata": {},
   "outputs": [
    {
     "data": {
      "text/plain": [
       "'https://ineuron.ai'"
      ]
     },
     "execution_count": 23,
     "metadata": {},
     "output_type": "execute_result"
    }
   ],
   "source": [
    "ds.company_website"
   ]
  },
  {
   "cell_type": "code",
   "execution_count": 25,
   "id": "a91e4f23-9b53-478a-9d97-ec31e91f5891",
   "metadata": {},
   "outputs": [
    {
     "data": {
      "text/plain": [
       "<bound method Ineuron.contact_details of <__main__.Datascience object at 0x000002A3500B7380>>"
      ]
     },
     "execution_count": 25,
     "metadata": {},
     "output_type": "execute_result"
    }
   ],
   "source": [
    "ds.contact_details"
   ]
  },
  {
   "cell_type": "code",
   "execution_count": 27,
   "id": "cd023833-c8d9-49b7-bee9-5e6b70951e24",
   "metadata": {},
   "outputs": [
    {
     "name": "stdout",
     "output_type": "stream",
     "text": [
      "Contact us at https://ineuron.ai\n"
     ]
    }
   ],
   "source": [
    "ds.contact_details()"
   ]
  },
  {
   "cell_type": "code",
   "execution_count": 29,
   "id": "93fbd201-e86f-416a-a23f-ad7be712824e",
   "metadata": {},
   "outputs": [
    {
     "name": "stdout",
     "output_type": "stream",
     "text": [
      "est details iNeuron 2018\n"
     ]
    }
   ],
   "source": [
    "ds.est_details()"
   ]
  },
  {
   "cell_type": "code",
   "execution_count": 31,
   "id": "da72b8ae-f40f-4dbb-85a3-2dacafd32b05",
   "metadata": {},
   "outputs": [
    {
     "data": {
      "text/plain": [
       "'iNeuron'"
      ]
     },
     "execution_count": 31,
     "metadata": {},
     "output_type": "execute_result"
    }
   ],
   "source": [
    "ds.name"
   ]
  },
  {
   "cell_type": "code",
   "execution_count": 33,
   "id": "2b1ae3b8-9521-4a5e-ab53-a21652232811",
   "metadata": {},
   "outputs": [
    {
     "data": {
      "text/plain": [
       "2018"
      ]
     },
     "execution_count": 33,
     "metadata": {},
     "output_type": "execute_result"
    }
   ],
   "source": [
    "ds.year_of_establishment"
   ]
  },
  {
   "cell_type": "code",
   "execution_count": 35,
   "id": "d86c701f-4200-456b-9452-6e8562d9c366",
   "metadata": {},
   "outputs": [],
   "source": [
    "#multiple inheritance "
   ]
  },
  {
   "cell_type": "code",
   "execution_count": 51,
   "id": "57eb78a0-a8c5-4771-ae2e-494eb5a444ed",
   "metadata": {},
   "outputs": [],
   "source": [
    "class Parent11:\n",
    "    def func11(self):\n",
    "        print(\"Hello from parent11\")\n",
    "\n",
    "class Parent22:\n",
    "    def func22(self):\n",
    "        print(\"Hello from parent22\")\n",
    "\n",
    "class child12(Parent11,Parent22):\n",
    "    def func33(self):\n",
    "        print(\"Hello child12\")"
   ]
  },
  {
   "cell_type": "code",
   "execution_count": 53,
   "id": "94f7ac51-1724-4bf2-8ff2-d5c9c04b1332",
   "metadata": {},
   "outputs": [],
   "source": [
    "tested=child12()"
   ]
  },
  {
   "cell_type": "code",
   "execution_count": 55,
   "id": "ef077631-94cd-4573-b869-c609e9e649fe",
   "metadata": {},
   "outputs": [
    {
     "name": "stdout",
     "output_type": "stream",
     "text": [
      "Hello from parent11\n"
     ]
    }
   ],
   "source": [
    "tested.func11()"
   ]
  },
  {
   "cell_type": "code",
   "execution_count": 57,
   "id": "d7692939-119c-4b06-976e-9e57bf9affb1",
   "metadata": {},
   "outputs": [
    {
     "name": "stdout",
     "output_type": "stream",
     "text": [
      "Hello from parent22\n"
     ]
    }
   ],
   "source": [
    "tested.func22()"
   ]
  },
  {
   "cell_type": "code",
   "execution_count": 61,
   "id": "6b58f986-da0d-4f38-bf29-cea8dbbd6d7d",
   "metadata": {},
   "outputs": [
    {
     "name": "stdout",
     "output_type": "stream",
     "text": [
      "Hello child12\n"
     ]
    }
   ],
   "source": [
    "tested.func33()"
   ]
  },
  {
   "cell_type": "code",
   "execution_count": 79,
   "id": "30aed604-f4c2-48d6-bdb9-b011f958dcca",
   "metadata": {},
   "outputs": [],
   "source": [
    "class Batch_number:\n",
    "    batchNumber=\"\"\n",
    "    def __init__(self,a,b,c):\n",
    "        self.a=a\n",
    "        self.a=b\n",
    "        self.a=c\n",
    "        print(a,b,c)"
   ]
  },
  {
   "cell_type": "code",
   "execution_count": 81,
   "id": "3607bad7-3baf-4146-a5be-bf7f01b0fbf1",
   "metadata": {},
   "outputs": [
    {
     "name": "stdout",
     "output_type": "stream",
     "text": [
      "1 2 3\n"
     ]
    }
   ],
   "source": [
    "t4=Batch_number(1,2,3)"
   ]
  },
  {
   "cell_type": "code",
   "execution_count": 83,
   "id": "2f483371-e9cf-49ae-8fde-ca334b2db2b2",
   "metadata": {},
   "outputs": [
    {
     "data": {
      "text/plain": [
       "3"
      ]
     },
     "execution_count": 83,
     "metadata": {},
     "output_type": "execute_result"
    }
   ],
   "source": [
    "t4.a"
   ]
  },
  {
   "cell_type": "code",
   "execution_count": 87,
   "id": "f0a86956-793a-4ab1-97ec-98cdf31bdd31",
   "metadata": {},
   "outputs": [],
   "source": [
    "class Batch_number:\n",
    "    batchnumber=\"\"\n",
    "    def __init__(self,a,b,c):\n",
    "        self.a=a\n",
    "        self.b=b\n",
    "        self.c=c\n",
    "    def batch(self):\n",
    "        print(self.batchnumber)\n",
    "\n",
    "#parent class 2\n",
    "\n",
    "class course_name:\n",
    "    cname=\"\"\n",
    "    def course(self):\n",
    "        print(self.cname)\n",
    "\n",
    "#child class\n",
    "\n",
    "class Student(Batch_number,course_name):\n",
    "    def show(self):\n",
    "        print(\"Batch\",self.batchnumber)\n",
    "        print(\"Course\",self.cname)"
   ]
  },
  {
   "cell_type": "code",
   "execution_count": 89,
   "id": "42ef0f28-047a-4249-8168-5d69de054667",
   "metadata": {},
   "outputs": [],
   "source": [
    "s1=Student(4,5,6)"
   ]
  },
  {
   "cell_type": "code",
   "execution_count": 93,
   "id": "718c360f-c9a6-4db8-9648-2cff9127439f",
   "metadata": {},
   "outputs": [
    {
     "data": {
      "text/plain": [
       "''"
      ]
     },
     "execution_count": 93,
     "metadata": {},
     "output_type": "execute_result"
    }
   ],
   "source": [
    "s1.batchnumber"
   ]
  },
  {
   "cell_type": "code",
   "execution_count": 95,
   "id": "91937065-7b4f-4ee0-81e6-fbabaf4713ae",
   "metadata": {},
   "outputs": [],
   "source": [
    "s1.batchnumber=\"2\""
   ]
  },
  {
   "cell_type": "code",
   "execution_count": 97,
   "id": "1bd1d125-4495-46a3-b2c8-21844f8e02c3",
   "metadata": {},
   "outputs": [],
   "source": [
    "s1.cname=\"fsds\""
   ]
  },
  {
   "cell_type": "code",
   "execution_count": 99,
   "id": "4fe81023-1dd1-4b84-8360-d07b6ac3f3a7",
   "metadata": {},
   "outputs": [
    {
     "name": "stdout",
     "output_type": "stream",
     "text": [
      "fsds\n"
     ]
    }
   ],
   "source": [
    "s1.course()"
   ]
  },
  {
   "cell_type": "code",
   "execution_count": 101,
   "id": "fca96e6f-cea2-486d-82da-fdbc4d2baac6",
   "metadata": {},
   "outputs": [
    {
     "name": "stdout",
     "output_type": "stream",
     "text": [
      "Batch 2\n",
      "Course fsds\n"
     ]
    }
   ],
   "source": [
    "s1.show()"
   ]
  },
  {
   "cell_type": "code",
   "execution_count": null,
   "id": "9ab84fce-a591-4097-aaf2-84ba2a566cd2",
   "metadata": {},
   "outputs": [],
   "source": []
  }
 ],
 "metadata": {
  "kernelspec": {
   "display_name": "Python 3 (ipykernel)",
   "language": "python",
   "name": "python3"
  },
  "language_info": {
   "codemirror_mode": {
    "name": "ipython",
    "version": 3
   },
   "file_extension": ".py",
   "mimetype": "text/x-python",
   "name": "python",
   "nbconvert_exporter": "python",
   "pygments_lexer": "ipython3",
   "version": "3.12.4"
  }
 },
 "nbformat": 4,
 "nbformat_minor": 5
}
