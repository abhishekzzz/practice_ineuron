{
 "cells": [
  {
   "cell_type": "code",
   "execution_count": 319,
   "id": "65d5f517-f62c-4303-807a-bbd651537923",
   "metadata": {},
   "outputs": [],
   "source": [
    "# q1 : Create your own class to perform a list search operation "
   ]
  },
  {
   "cell_type": "code",
   "execution_count": 320,
   "id": "ba43d4a2-ca1f-4b9b-90c7-df8d7eaeb96b",
   "metadata": {},
   "outputs": [],
   "source": [
    "import logging\n",
    "\n",
    "logging.basicConfig(filename='logger.log',level=logging.DEBUG , filemode = 'w', format=\"%(asctime)s %(levelname)s %(message)s\")\n",
    "\n",
    "class ListSearch:\n",
    "    def __init__(self):\n",
    "        user_input = input(\"Enter a list of numbers separated by commas (eg, 1,2,3,4,5,7): \")\n",
    "        try:\n",
    "            # Convert the input string into a list of integers\n",
    "            self.list_arr = [int(x) for x in user_input.split(',')]\n",
    "            logging.info(f\"List Initialized: {self.list_arr}\")\n",
    "        except ValueError as e:\n",
    "            logging.error(\"Invalid input for the list. Ensure you enter only numbers separated by commas.\")\n",
    "            logging.exception(e)\n",
    "            self.list_arr = [] #deault empty list is input is invalid\n",
    "        \n",
    "    def linear_search(self,target):\n",
    "        try:\n",
    "            logging.info(\"Search Operation.....\" )  \n",
    "            #if target == target/0:\n",
    "             #   _ = 1 / 0 #This will raise ZeroDivisionError\n",
    "            for i in range(len(self.list_arr )):\n",
    "                if self.list_arr [i] == target:\n",
    "                    logging.info(\"Successful Search\" )\n",
    "                    return i , True\n",
    "            logging.info(\"Unsuccessful Search\" )\n",
    "            return None, False\n",
    "        except Exception as e:\n",
    "            logging.exception(\"Error Occurred during search\")\n",
    "            return None, False\n",
    "        "
   ]
  },
  {
   "cell_type": "code",
   "execution_count": 321,
   "id": "f8d740d8-5458-45ab-bd79-5f3db8930dfc",
   "metadata": {},
   "outputs": [
    {
     "name": "stdin",
     "output_type": "stream",
     "text": [
      "Enter a list of numbers separated by commas (eg, 1,2,3,4,5,7):  1,2,3,4,5\n"
     ]
    }
   ],
   "source": [
    "listsearch_obj = ListSearch ()"
   ]
  },
  {
   "cell_type": "code",
   "execution_count": 322,
   "id": "881139e5-7c7e-4e40-829a-2b8889e78cde",
   "metadata": {},
   "outputs": [
    {
     "data": {
      "text/plain": [
       "[1, 2, 3, 4, 5]"
      ]
     },
     "execution_count": 322,
     "metadata": {},
     "output_type": "execute_result"
    }
   ],
   "source": [
    "listsearch_obj.list_arr"
   ]
  },
  {
   "cell_type": "code",
   "execution_count": 323,
   "id": "25b32323-9448-42cb-bc32-c2b7710dbbb0",
   "metadata": {},
   "outputs": [
    {
     "data": {
      "text/plain": [
       "(4, True)"
      ]
     },
     "execution_count": 323,
     "metadata": {},
     "output_type": "execute_result"
    }
   ],
   "source": [
    "listsearch_obj.linear_search(5)"
   ]
  },
  {
   "cell_type": "code",
   "execution_count": 324,
   "id": "05264608-005b-4b93-bd7e-4234fddbfa7e",
   "metadata": {},
   "outputs": [
    {
     "data": {
      "text/plain": [
       "(None, False)"
      ]
     },
     "execution_count": 324,
     "metadata": {},
     "output_type": "execute_result"
    }
   ],
   "source": [
    "listsearch_obj.linear_search(0)"
   ]
  },
  {
   "cell_type": "code",
   "execution_count": 325,
   "id": "2b9e271d-1694-462d-8151-5af5b1714338",
   "metadata": {},
   "outputs": [],
   "source": [
    "import logging\n",
    "\n",
    "logging.basicConfig(filename='logger.log', level=logging.DEBUG, filemode='w', format=\"%(asctime)s %(levelname)s %(message)s\")\n",
    "\n",
    "class ListSearch:\n",
    "    def __init__(self):\n",
    "        while True:\n",
    "            try:\n",
    "                # Ask for the size of the array\n",
    "                size = int(input(\"Enter the size of the array: \"))\n",
    "                if size <= 0:\n",
    "                    raise ValueError(\"Size must be a positive integer.\")\n",
    "                break\n",
    "            except ValueError as e:\n",
    "                logging.error(\"Invalid input for array size. Must be a positive integer.\")\n",
    "                logging.exception(e)\n",
    "                print(\"Invalid size. Please try again.\")\n",
    "\n",
    "        while True:\n",
    "            try:\n",
    "                # Ask for the array elements\n",
    "                user_input = input(f\"Enter {size} numbers separated by commas (e.g., 1,2,3,...): \")\n",
    "                # Convert the input string into a list of integers\n",
    "                self.list_arr = [int(x) for x in user_input.split(',')]\n",
    "                \n",
    "                # Validate the length of the list\n",
    "                if len(self.list_arr) != size:\n",
    "                    raise ValueError(f\"Expected {size} numbers, but got {len(self.list_arr)}.\")\n",
    "                \n",
    "                logging.info(f\"List Initialized: {self.list_arr}\")\n",
    "                break\n",
    "            except ValueError as e:\n",
    "                logging.error(\"Invalid input for the list. Ensure you enter the correct number of integers.\")\n",
    "                logging.exception(e)\n",
    "                self.list_arr = []  # Default to an empty list on error\n",
    "                print(\"Invalid input. Please try again.\")\n",
    "\n",
    "    def linear_search(self, target):\n",
    "        try:\n",
    "            logging.info(\"Search Operation started...\")\n",
    "            # Uncomment the next lines if you want to simulate an error\n",
    "            # if target == target / 0:\n",
    "            #     _ = 1 / 0  # This will raise ZeroDivisionError\n",
    "\n",
    "            for i in range(len(self.list_arr)):\n",
    "                if self.list_arr[i] == target:\n",
    "                    logging.info(f\"Successful Search: Found target {target} at index {i}.\")\n",
    "                    return i, True\n",
    "            logging.info(f\"Unsuccessful Search: Target {target} not found.\")\n",
    "            return None, False\n",
    "        except Exception as e:\n",
    "            logging.exception(\"Error Occurred during search\")\n",
    "            return None, False\n"
   ]
  },
  {
   "cell_type": "code",
   "execution_count": null,
   "id": "1c02e515-c069-4099-b690-c6540079a002",
   "metadata": {},
   "outputs": [
    {
     "name": "stdin",
     "output_type": "stream",
     "text": [
      "Enter the size of the array:  1,2,3,4,5,6,7,8\n"
     ]
    },
    {
     "name": "stdout",
     "output_type": "stream",
     "text": [
      "Invalid size. Please try again.\n"
     ]
    }
   ],
   "source": [
    "# Create the ListSearch object\n",
    "listsearch_obj = ListSearch()"
   ]
  },
  {
   "cell_type": "code",
   "execution_count": 20,
   "id": "67a0d83d-b4a8-4616-967a-81a1a5b34421",
   "metadata": {},
   "outputs": [
    {
     "data": {
      "text/plain": [
       "(None, False)"
      ]
     },
     "execution_count": 20,
     "metadata": {},
     "output_type": "execute_result"
    }
   ],
   "source": [
    "listsearch_obj.linear_search(5)"
   ]
  },
  {
   "cell_type": "code",
   "execution_count": 21,
   "id": "3db257df-d929-4729-a200-26340b3b6fe5",
   "metadata": {},
   "outputs": [
    {
     "data": {
      "text/plain": [
       "(0, True)"
      ]
     },
     "execution_count": 21,
     "metadata": {},
     "output_type": "execute_result"
    }
   ],
   "source": [
    "listsearch_obj.linear_search(1)"
   ]
  },
  {
   "cell_type": "code",
   "execution_count": 23,
   "id": "24044b97-1c50-4849-9b62-ce78e96f0963",
   "metadata": {},
   "outputs": [],
   "source": [
    "# q2 : create a class for dict new element addition"
   ]
  },
  {
   "cell_type": "code",
   "execution_count": 24,
   "id": "aea3e353-345b-475d-b5a2-b532512170ce",
   "metadata": {},
   "outputs": [],
   "source": [
    "import logging\n",
    "\n",
    "logging.basicConfig(filename='newlogger1.log', level=logging.DEBUG, filemode='w', format=\"%(asctime)s %(levelname)s %(message)s\")\n",
    "\n",
    "class DictManager:\n",
    "    def __init__(self):\n",
    "        self.my_dict = {}\n",
    "        \n",
    "    def add_element(self,key,value):\n",
    "        logging.info(\"This is to add element to dict\" )\n",
    "        if key in self.my_dict:\n",
    "            logging.error(\"This element is already present into dict\" )\n",
    "            print(f\" Key '{key}' already exists. Updating the value.\")\n",
    "        self.my_dict[key] = value\n",
    "        logging.info(\"This element is Added/Updated into dict \" )\n",
    "        print(f\"Added/Updated: {key} -> {value}\")\n",
    "            \n",
    "    def remove_element(self, key):\n",
    "        if key in self.my_dict:\n",
    "            del self.my_dict[key]\n",
    "            logging.info(\"This element is deleted from dict\" )\n",
    "            print(\"Removed: {key}\")\n",
    "        else:\n",
    "            logging.error(\"This element is not found in dict\" )\n",
    "            print(f\"Key '{key} is not found.\")\n",
    "            \n",
    "    def get_element(self,key):\n",
    "        logging.error(\"This element is not found in dict\" )\n",
    "        return self.my_dict.get(key,\"Key not found.\")\n",
    "    \n",
    "    def display_dict(self):\n",
    "        logging.info(\"This element is displayed from dict\" )\n",
    "        return self.my_dict"
   ]
  },
  {
   "cell_type": "code",
   "execution_count": 14,
   "id": "1d9ca15c-5368-4a89-be63-8a48093de397",
   "metadata": {},
   "outputs": [],
   "source": [
    "m = DictManager()"
   ]
  },
  {
   "cell_type": "code",
   "execution_count": 15,
   "id": "e04c0ce1-e93c-48f6-b962-f0e2a5dfed38",
   "metadata": {},
   "outputs": [
    {
     "name": "stdout",
     "output_type": "stream",
     "text": [
      "Added/Updated: name -> Alice\n"
     ]
    }
   ],
   "source": [
    "m.add_element('name','Alice')"
   ]
  },
  {
   "cell_type": "code",
   "execution_count": 16,
   "id": "8a13cf69-ddfa-49b8-af32-cccafd013741",
   "metadata": {},
   "outputs": [
    {
     "name": "stdout",
     "output_type": "stream",
     "text": [
      "Added/Updated: age -> 30\n"
     ]
    }
   ],
   "source": [
    "m.add_element('age',30)"
   ]
  },
  {
   "cell_type": "code",
   "execution_count": 17,
   "id": "50908abf-5b2f-4ddd-a07e-7a981ea49215",
   "metadata": {},
   "outputs": [
    {
     "data": {
      "text/plain": [
       "{'name': 'Alice', 'age': 30}"
      ]
     },
     "execution_count": 17,
     "metadata": {},
     "output_type": "execute_result"
    }
   ],
   "source": [
    "m.display_dict()"
   ]
  },
  {
   "cell_type": "code",
   "execution_count": 18,
   "id": "7f2a4912-d0b8-4bd0-8886-13aa02c69e7e",
   "metadata": {},
   "outputs": [
    {
     "data": {
      "text/plain": [
       "'Key not found.'"
      ]
     },
     "execution_count": 18,
     "metadata": {},
     "output_type": "execute_result"
    }
   ],
   "source": [
    "m.get_element('Alice')"
   ]
  },
  {
   "cell_type": "code",
   "execution_count": 19,
   "id": "cb29cc7d-7653-4766-9713-0fb916dad586",
   "metadata": {},
   "outputs": [
    {
     "data": {
      "text/plain": [
       "30"
      ]
     },
     "execution_count": 19,
     "metadata": {},
     "output_type": "execute_result"
    }
   ],
   "source": [
    "m.get_element('age')"
   ]
  },
  {
   "cell_type": "code",
   "execution_count": 20,
   "id": "8f8904b9-e19e-49a2-a59f-5a186b2f4c56",
   "metadata": {},
   "outputs": [
    {
     "name": "stdout",
     "output_type": "stream",
     "text": [
      "Key '30 is not found.\n"
     ]
    }
   ],
   "source": [
    "m.remove_element(30)"
   ]
  },
  {
   "cell_type": "code",
   "execution_count": 21,
   "id": "0836111d-cf28-46b6-8850-7735e8c801ba",
   "metadata": {},
   "outputs": [
    {
     "name": "stdout",
     "output_type": "stream",
     "text": [
      "Removed: {key}\n"
     ]
    }
   ],
   "source": [
    "m.remove_element('age')"
   ]
  },
  {
   "cell_type": "code",
   "execution_count": 22,
   "id": "c40bd17b-3284-4b51-a2be-d0fcb8cdeb3d",
   "metadata": {},
   "outputs": [
    {
     "data": {
      "text/plain": [
       "{'name': 'Alice'}"
      ]
     },
     "execution_count": 22,
     "metadata": {},
     "output_type": "execute_result"
    }
   ],
   "source": [
    "m.display_dict()"
   ]
  },
  {
   "cell_type": "code",
   "execution_count": 307,
   "id": "27dcab27-31ba-4f49-b1fb-47b9477435dd",
   "metadata": {},
   "outputs": [],
   "source": [
    "# q3 : create a class for tuple data extraction operation"
   ]
  },
  {
   "cell_type": "code",
   "execution_count": 287,
   "id": "4b20b7a7-9e88-4d09-a97e-1348fbdc6230",
   "metadata": {},
   "outputs": [],
   "source": [
    "import logging\n",
    "\n",
    "# Set up logging configuration\n",
    "logging.basicConfig(level=logging.DEBUG, format='%(asctime)s - %(levelname)s - %(message)s')\n",
    "\n",
    "class TupleExtractor:\n",
    "    def __init__(self, data):\n",
    "        if not isinstance(data, tuple):\n",
    "            logging.error(\"Initialization failed: Data must be a tuple.\")\n",
    "            raise TypeError(\"Data must be a tuple.\")\n",
    "        self.data = data\n",
    "        self.flattened_data = self.flatten(data)\n",
    "        self.index_map = self.create_index_map(self.flattened_data)\n",
    "        logging.info(f\"Initialized with data: {self.data}\")\n",
    "\n",
    "    def get_element(self, index):\n",
    "        \"\"\"Returns the element at the specified index in the flattened version of the tuple.\"\"\"\n",
    "        try:\n",
    "            result = self.flattened_data[index]\n",
    "            logging.info(f\"Retrieved element at index {index}: {result}\")\n",
    "            return result\n",
    "        except IndexError:\n",
    "            logging.error(f\"Index out of range: {index}\")\n",
    "            raise IndexError(\"Index out of range.\")\n",
    "\n",
    "    def get_slice(self, start=None, end=None):\n",
    "        \"\"\"Returns a slice of the flattened version of the tuple from start to end.\"\"\"\n",
    "        result = self.flattened_data[start:end]\n",
    "        logging.info(f\"Retrieved slice from index {start} to {end}: {result}\")\n",
    "        return result\n",
    "\n",
    "    def find_element(self, value):\n",
    "        \"\"\"Returns a list of indices where the value is found in the flattened tuple.\"\"\"\n",
    "        indices = self.index_map.get(value, [])\n",
    "        if indices:\n",
    "            logging.info(f\"Found element {value} at indices {indices}\")\n",
    "        else:\n",
    "            logging.warning(f\"Element {value} not found.\")\n",
    "        return indices\n",
    "\n",
    "    def get_length(self):\n",
    "        \"\"\"Returns the length of the flattened version of the tuple.\"\"\"\n",
    "        length = len(self.flattened_data)\n",
    "        logging.info(f\"Length of flattened tuple: {length}\")\n",
    "        return length\n",
    "\n",
    "    def count_occurrences(self, value):\n",
    "        \"\"\"Returns the number of occurrences of the value in the flattened version of the tuple.\"\"\"\n",
    "        count = len(self.index_map.get(value, []))\n",
    "        logging.info(f\"Count of element {value}: {count}\")\n",
    "        return count\n",
    "\n",
    "    def flatten(self, data):\n",
    "        \"\"\"Recursively flattens a nested tuple.\"\"\"\n",
    "        flattened = []\n",
    "        for elem in data:\n",
    "            if isinstance(elem, tuple):\n",
    "                flattened.extend(self.flatten(elem))\n",
    "            else:\n",
    "                flattened.append(elem)\n",
    "        logging.debug(f\"Flattened data: {flattened}\")\n",
    "        return flattened\n",
    "\n",
    "    def create_index_map(self, flattened_data):\n",
    "        \"\"\"Creates a map of element values to their indices.\"\"\"\n",
    "        index_map = {}\n",
    "        for i, value in enumerate(flattened_data):\n",
    "            if value not in index_map:\n",
    "                index_map[value] = []\n",
    "            index_map[value].append(i)\n",
    "        return index_map"
   ]
  },
  {
   "cell_type": "code",
   "execution_count": 288,
   "id": "8132a3d9-efae-4eee-bf76-b76cc20cdeb5",
   "metadata": {},
   "outputs": [],
   "source": [
    "data1 = (10,20,(30,40),50,60)"
   ]
  },
  {
   "cell_type": "code",
   "execution_count": 289,
   "id": "5e898612-d237-4211-8e48-cd4b94ac91a0",
   "metadata": {},
   "outputs": [],
   "source": [
    "tup1 = Tuple_data_extract(data1)"
   ]
  },
  {
   "cell_type": "code",
   "execution_count": 290,
   "id": "fd9ce3e7-986a-4023-b7a7-bcec594ab330",
   "metadata": {},
   "outputs": [
    {
     "data": {
      "text/plain": [
       "20"
      ]
     },
     "execution_count": 290,
     "metadata": {},
     "output_type": "execute_result"
    }
   ],
   "source": [
    "tup1.get_element(1)"
   ]
  },
  {
   "cell_type": "code",
   "execution_count": 291,
   "id": "545e537d-79c0-447f-9633-e698266dc836",
   "metadata": {},
   "outputs": [
    {
     "data": {
      "text/plain": [
       "[40, 50, 60]"
      ]
     },
     "execution_count": 291,
     "metadata": {},
     "output_type": "execute_result"
    }
   ],
   "source": [
    "tup1.get_slice(-3)"
   ]
  },
  {
   "cell_type": "code",
   "execution_count": 292,
   "id": "9519de0f-f22e-45bc-8bb7-c3e67a6ce2ff",
   "metadata": {},
   "outputs": [
    {
     "data": {
      "text/plain": [
       "[(2, 1)]"
      ]
     },
     "execution_count": 292,
     "metadata": {},
     "output_type": "execute_result"
    }
   ],
   "source": [
    "tup1.find_element(40)"
   ]
  },
  {
   "cell_type": "code",
   "execution_count": 293,
   "id": "adeb3ba5-3bd7-4bfe-85e4-5af67d2af231",
   "metadata": {},
   "outputs": [
    {
     "data": {
      "text/plain": [
       "[]"
      ]
     },
     "execution_count": 293,
     "metadata": {},
     "output_type": "execute_result"
    }
   ],
   "source": [
    "tup1.find_element(170)"
   ]
  },
  {
   "cell_type": "code",
   "execution_count": 294,
   "id": "d1e7e6b2-9c74-4e8d-90e6-7aed16f1fff7",
   "metadata": {},
   "outputs": [],
   "source": [
    "data2 = (10,20,30,40,50,60)"
   ]
  },
  {
   "cell_type": "code",
   "execution_count": 295,
   "id": "abbbb53e-6da8-4ccc-a994-0b9a207d2885",
   "metadata": {},
   "outputs": [],
   "source": [
    "tup2 = Tuple_data_extract(data2)"
   ]
  },
  {
   "cell_type": "code",
   "execution_count": 296,
   "id": "440de7cd-c82c-457c-abff-183c2d1fb844",
   "metadata": {},
   "outputs": [
    {
     "data": {
      "text/plain": [
       "[(3,)]"
      ]
     },
     "execution_count": 296,
     "metadata": {},
     "output_type": "execute_result"
    }
   ],
   "source": [
    "tup2.find_element(40)"
   ]
  },
  {
   "cell_type": "code",
   "execution_count": 297,
   "id": "da77a7ec-8129-4ca2-a0c9-554e0d201995",
   "metadata": {},
   "outputs": [],
   "source": [
    "data3 = (10,(20,(30),(70,40),50),40,60)"
   ]
  },
  {
   "cell_type": "code",
   "execution_count": 298,
   "id": "e36ed2db-c763-452c-ac1f-39009e9c0d33",
   "metadata": {},
   "outputs": [],
   "source": [
    "tup3 = Tuple_data_extract(data3)"
   ]
  },
  {
   "cell_type": "code",
   "execution_count": 299,
   "id": "8bca4652-df4e-47ae-9c08-7355ecca4f1a",
   "metadata": {},
   "outputs": [
    {
     "data": {
      "text/plain": [
       "[(1, 2, 1), (2,)]"
      ]
     },
     "execution_count": 299,
     "metadata": {},
     "output_type": "execute_result"
    }
   ],
   "source": [
    "tup3.find_element(40)"
   ]
  },
  {
   "cell_type": "code",
   "execution_count": 300,
   "id": "b32b9fa7-b079-4d06-8bc4-270fcc0ff2dc",
   "metadata": {},
   "outputs": [
    {
     "data": {
      "text/plain": [
       "1"
      ]
     },
     "execution_count": 300,
     "metadata": {},
     "output_type": "execute_result"
    }
   ],
   "source": [
    "tup3.count_occurrences(60)"
   ]
  },
  {
   "cell_type": "code",
   "execution_count": 301,
   "id": "ae4798c4-5542-4dd4-9a42-71379c3f2747",
   "metadata": {},
   "outputs": [
    {
     "data": {
      "text/plain": [
       "2"
      ]
     },
     "execution_count": 301,
     "metadata": {},
     "output_type": "execute_result"
    }
   ],
   "source": [
    "tup3.count_occurrences(40)"
   ]
  },
  {
   "cell_type": "code",
   "execution_count": 302,
   "id": "53a72c49-f5b0-42fc-9f9c-690999d03590",
   "metadata": {},
   "outputs": [],
   "source": [
    "data4 = (10, (20, (30,), (70, 40), 50), 60)"
   ]
  },
  {
   "cell_type": "code",
   "execution_count": 303,
   "id": "8cd7cdd1-b0fd-4358-8d0d-c10d566d5c5f",
   "metadata": {},
   "outputs": [],
   "source": [
    "tup4 = Tuple_data_extract(data4)"
   ]
  },
  {
   "cell_type": "code",
   "execution_count": 304,
   "id": "e5f96c36-a971-4f37-8251-9545bb1fcb39",
   "metadata": {},
   "outputs": [
    {
     "data": {
      "text/plain": [
       "1"
      ]
     },
     "execution_count": 304,
     "metadata": {},
     "output_type": "execute_result"
    }
   ],
   "source": [
    "tup4.count_occurrences(40)"
   ]
  },
  {
   "cell_type": "code",
   "execution_count": 305,
   "id": "03395c64-5d66-4a0d-8459-1a21b48f7140",
   "metadata": {},
   "outputs": [
    {
     "data": {
      "text/plain": [
       "[(1, 2, 1)]"
      ]
     },
     "execution_count": 305,
     "metadata": {},
     "output_type": "execute_result"
    }
   ],
   "source": [
    "tup4.find_element(40)"
   ]
  },
  {
   "cell_type": "code",
   "execution_count": 306,
   "id": "27164a86-c91d-4872-800e-caec9a19f9ee",
   "metadata": {},
   "outputs": [
    {
     "data": {
      "text/plain": [
       "7"
      ]
     },
     "execution_count": 306,
     "metadata": {},
     "output_type": "execute_result"
    }
   ],
   "source": [
    "tup4.get_length()"
   ]
  },
  {
   "cell_type": "code",
   "execution_count": 68,
   "id": "6d431c5b-b426-4fa5-86aa-534b5f2a6efe",
   "metadata": {},
   "outputs": [],
   "source": [
    "# q4 : Create a class to implement all insert , update , delete operation for mysql"
   ]
  },
  {
   "cell_type": "code",
   "execution_count": 312,
   "id": "ed32d812-23a2-4820-a92c-8f02cc83ac76",
   "metadata": {},
   "outputs": [
    {
     "name": "stdout",
     "output_type": "stream",
     "text": [
      "Collecting mysql-connector-python\n",
      "  Downloading mysql_connector_python-9.0.0-cp310-cp310-manylinux_2_17_x86_64.whl (19.3 MB)\n",
      "\u001b[2K     \u001b[90m━━━━━━━━━━━━━━━━━━━━━━━━━━━━━━━━━━━━━━━━\u001b[0m \u001b[32m19.3/19.3 MB\u001b[0m \u001b[31m45.8 MB/s\u001b[0m eta \u001b[36m0:00:00\u001b[0m00:01\u001b[0m00:01\u001b[0m\n",
      "\u001b[?25hInstalling collected packages: mysql-connector-python\n",
      "Successfully installed mysql-connector-python-9.0.0\n",
      "Note: you may need to restart the kernel to use updated packages.\n"
     ]
    }
   ],
   "source": [
    "pip install mysql-connector-python"
   ]
  },
  {
   "cell_type": "code",
   "execution_count": 31,
   "id": "082f46de-001f-41e1-9231-553d86909bc2",
   "metadata": {},
   "outputs": [],
   "source": [
    "import mysql.connector\n",
    "from mysql.connector import Error\n",
    "from contextlib import contextmanager\n",
    "import logging\n",
    "logging.basicConfig(filename = 'logger.log', level = logging.DEBUG, filemode = 'w', format = \"%(asctime)s %(levelname)s %(message)s\")\n",
    "\n",
    "\n",
    "class MySQLDatabase:\n",
    "    def __init__(self,user,password, port,host,database =None):\n",
    "        self.user = user\n",
    "        self.password = password\n",
    "        self.port = port\n",
    "        self.host = host\n",
    "        self.database = database\n",
    "        self.connection = None\n",
    "\n",
    "    def connect_to_mysql(self):\n",
    "        \"\"\" Establising the connection to the MYSQL server \"\"\"\n",
    "        try:\n",
    "            self.connection = mysql.connector.connect(\n",
    "                host = self.host,\n",
    "                port = self.port,\n",
    "                user = self.user,\n",
    "                password = self.password\n",
    "            )\n",
    "            if self.connection.is_connected():\n",
    "                logging.info(\"successfully connected to mysql server\")\n",
    "                print(\"successfully connected to mysql server\")\n",
    "        except Error as e:\n",
    "            logging.exception(f\"Error: {e} occurred while connecting to mysql. \")\n",
    "            print (f\"Error: {e}\")  \n",
    "\n",
    "    @contextmanager\n",
    "    def get_cursor(self, dictionary=False):\n",
    "        \"\"\"Context manager to get a cursor and ensure it is closed.\"\"\"\n",
    "        cursor = self.connection.cursor(dictionary=dictionary)\n",
    "        try:\n",
    "            yield cursor\n",
    "        finally:\n",
    "            cursor.close()\n",
    "            \n",
    "    def create_database(self, database_name):\n",
    "        \"\"\"Creates a new database if it does not already exist.\"\"\"\n",
    "        try:\n",
    "            with self.get_cursor() as cursor:\n",
    "                cursor.execute(f\"show databases like '{database_name}'\")\n",
    "                result = cursor.fetchone()\n",
    "                if result:\n",
    "                    logging.error(f\"Database '{database_name}' already exists\")\n",
    "                    print(f\"Database '{database_name}' already exists\")\n",
    "                else:\n",
    "                    cursor.execute(f\"CREATE DATABASE {database_name}\")\n",
    "                    logging.info(f\"Database '{database_name}' created successfully.\")\n",
    "                    print(f\"Database '{database_name}' created successfully.\")\n",
    "        except Error as e:\n",
    "            logging.exception(f\"Error: {e} occurred during database creation\")\n",
    "            print(f\"Error: {e} occurred during database creation\")\n",
    "\n",
    "    \n",
    "    def use_database (self, database_name):\n",
    "        \"\"\"Select the database to use.\"\"\"\n",
    "        cursor = None\n",
    "        try: \n",
    "            with self.get_cursor() as cursor:\n",
    "                logging.info(f\"Switched to database '{database_name}'.\")\n",
    "                cursor.execute(f\"USE {database_name}\")\n",
    "                print(f\"Switched to database '{database_name}'.\")\n",
    "        except Error as e:\n",
    "            logging.exception(f\"Error: {e} occurred during switching database\")\n",
    "            print(f\"Error: {e} occurred during switching database\")\n",
    "\n",
    "\n",
    "    def close(self):\n",
    "        \"\"\"Closes the connection to the MySQL server.\"\"\"\n",
    "        if self.connection and self.connection.is_connected():\n",
    "            self.connection.close()\n",
    "            logging.info(\"Connection closed.\")\n",
    "            print(\"Connection closed.\")\n",
    "\n",
    "    def create_table(self,table_name,table_definition):\n",
    "        \"\"\"Creates a table in the database, distinguishing whether it was newly created or already existed.\"\"\"\n",
    "        try:\n",
    "            with self.get_cursor() as cursor: \n",
    "                # Check if the table already exists\n",
    "                cursor.execute(f\"SHOW TABLES LIKE '{table_name}'\")\n",
    "                result = cursor.fetchone()\n",
    "                if result:\n",
    "                    logging.info(f\"Table '{table_name}' already exists.\")\n",
    "                    print(f\"Table '{table_name}' already exists.\")\n",
    "                else:\n",
    "                    cursor.execute(f\"CREATE TABLE {table_name} ({table_definition})\")\n",
    "                    logging.info(f\"Table '{table_name} created successfully\")\n",
    "                    print(f\"Table '{table_name}' created successfully.\")\n",
    "        except Error as e:\n",
    "            logging.info(f\"Error: {e} occured while creating table\")\n",
    "            print(f\"Error: {e} occured while creating table'\")\n",
    "        finally:\n",
    "            if cursor:\n",
    "                cursor.close()\n",
    "\n",
    "    def insert(self, table, columns, values):\n",
    "        \"\"\"Inserts data into a table.\"\"\"\n",
    "        placeholders = ', '.join(['%s'] * len(values))     # values = ('Alice Johnson', 'Data Analyst',70000.00)\n",
    "        #When using %s, the database driver automatically handles the conversion of Python data types into the appropriate SQL data types. \n",
    "        #For example, a Python int is converted to an SQL INTEGER, and a Python str is converted to an SQL VARCHAR.\n",
    "        columns_str = ', '.join(columns)  # columns = ['name','position','salary']\n",
    "        #['%s'] * len(values) creates a list where the string '%s' is repeated as many times as there are elements in values.\n",
    "        query = f\"INSERT INTO {table} ({columns_str}) VALUES ({placeholders})\"\n",
    "        \n",
    "        try:\n",
    "            with self.get_cursor() as cursor:\n",
    "                cursor.execute(query, values)\n",
    "                self.connection.commit()\n",
    "                if cursor.rowcount > 0:\n",
    "                    logging.info(f\"Record inserted successfully. Rows affected: {cursor.rowcount}.\")\n",
    "                    print(f\"Record inserted successfully. Rows affected: {cursor.rowcount}.\")\n",
    "                else:\n",
    "                    print(\"No record was inserted.\")\n",
    "        except Error as e:\n",
    "            logging.error(f\"Error: {e} inserting data into a table.\")\n",
    "            print(f\"Error: {e} inserting data into a table.\")\n",
    "            \n",
    "    def update(self, table, set_values, where_clause):\n",
    "        \"\"\"Updates records in a table.\"\"\"\n",
    "        set_clause = ', '.join([f\"{col} = %s\" for col in set_values.keys()])\n",
    "        query = f\"UPDATE {table} SET {set_clause} WHERE {where_clause}\"\n",
    "        \n",
    "        try:\n",
    "            with self.get_cursor() as cursor:\n",
    "                cursor.execute(query, list(set_values.values()))\n",
    "                self.connection.commit()\n",
    "                if cursor.rowcount > 0:\n",
    "                    logging.info(f\"Record(s) updated successfully. Rows affected: {cursor.rowcount}.\")\n",
    "                    print(f\"Record(s) updated successfully. Rows affected: {cursor.rowcount}.\")\n",
    "                else:\n",
    "                    print(\"No records were updated because no matching records were found.\")\n",
    "        except Error as e:\n",
    "            logging.error(f\"Error: {e} while updating table\")\n",
    "            print(f\"Error: {e} while updating table\")\n",
    "\n",
    "    def delete(self, table, where_clause):\n",
    "        \"\"\"Deletes records from a table.\"\"\"\n",
    "        query = f\"DELETE FROM {table} WHERE {where_clause}\"\n",
    "        \n",
    "        try:\n",
    "            with self.get_cursor() as cursor:\n",
    "                cursor.execute(query)\n",
    "                affected_rows = cursor.rowcount  # Number of rows affected by the query\n",
    "                self.connection.commit()\n",
    "                \n",
    "                if affected_rows > 0:\n",
    "                    logging.info(\"Record(s) deleted successfully. Rows affected: {affected_rows}.\")\n",
    "                    print(f\"Record(s) deleted successfully. Rows affected: {affected_rows}.\")\n",
    "                else:\n",
    "                    print(\"No records were deleted because no matching records were found.\")\n",
    "        except Error as e:\n",
    "            logging.error(f\"Error: {e} while deleting table\")\n",
    "            print(f\"Error: {e} while deleting table\")\n",
    "\n",
    "    def fetch_all(self, query, params=None):\n",
    "        \"\"\"Fetches all records from a query.\"\"\"\n",
    "        try:\n",
    "            with self.get_cursor(dictionary=True) as cursor:\n",
    "                cursor.execute(query, params)\n",
    "                result = cursor.fetchall()\n",
    "                logging.info(\"fetched all the data based on the queries\")\n",
    "                return result\n",
    "        except Error as e:\n",
    "            logging.error(f\"Error: {e} fetching all the data based on the queries\")\n",
    "            print(f\"Error: {e} fetching all the data based on the queries\")\n",
    "            return []\n",
    "\n",
    "    def fetch_one(self, query, params=None):\n",
    "        \"\"\"Fetches a single row from the result of the query.\"\"\"\n",
    "        try:\n",
    "            with self.get_cursor(dictionary=True) as cursor:\n",
    "                cursor.execute(query, params)\n",
    "                result = cursor.fetchone()\n",
    "                \n",
    "                # Consume any remaining results to avoid the \"Unread result found\" error\n",
    "                while cursor.nextset():\n",
    "                    cursor.fetchall()\n",
    "                logging.info(\"fetched single row based on the queries\")\n",
    "                return result\n",
    "        except Error as e:\n",
    "            logging.error(f\"Error: {e} fetching a single row record based on the queries\")\n",
    "            print(f\"Error: {e} fetching a single row record based on the queries\")\n",
    "            return None"
   ]
  },
  {
   "cell_type": "code",
   "execution_count": 33,
   "id": "5f1acc7c-3098-471d-b27b-7ec6f702e148",
   "metadata": {},
   "outputs": [],
   "source": [
    "abc = MySQLDatabase(host = '127.0.0.1',port = 3306,user = 'root',password = 'Abhi@1972',database = 'savdb')"
   ]
  },
  {
   "cell_type": "code",
   "execution_count": 35,
   "id": "175cc216-a61e-45b9-af94-fdc5a998ef43",
   "metadata": {},
   "outputs": [
    {
     "name": "stdout",
     "output_type": "stream",
     "text": [
      "successfully connected to mysql server\n"
     ]
    }
   ],
   "source": [
    "abc.connect_to_mysql()"
   ]
  },
  {
   "cell_type": "code",
   "execution_count": 37,
   "id": "332c969a-c891-4251-b60c-01db98495a40",
   "metadata": {},
   "outputs": [
    {
     "name": "stdout",
     "output_type": "stream",
     "text": [
      "Database 'savdb' already exists\n"
     ]
    }
   ],
   "source": [
    "abc.create_database('savdb')"
   ]
  },
  {
   "cell_type": "code",
   "execution_count": 39,
   "id": "ad4e2048-240c-44e9-9198-f6f10b99efb9",
   "metadata": {},
   "outputs": [
    {
     "name": "stdout",
     "output_type": "stream",
     "text": [
      "Database 'new_db_from_jupyter' already exists\n"
     ]
    }
   ],
   "source": [
    "abc.create_database(\"new_db_from_jupyter\")"
   ]
  },
  {
   "cell_type": "code",
   "execution_count": 41,
   "id": "ea3e42cd-f01a-4ec0-83fb-eeb639839b9d",
   "metadata": {},
   "outputs": [
    {
     "name": "stdout",
     "output_type": "stream",
     "text": [
      "Switched to database 'new_db_from_jupyter'.\n"
     ]
    }
   ],
   "source": [
    "abc.use_database(\"new_db_from_jupyter\")"
   ]
  },
  {
   "cell_type": "code",
   "execution_count": 43,
   "id": "3969cc85-c5a0-4a2b-a58e-61de5a9e7bb8",
   "metadata": {},
   "outputs": [
    {
     "name": "stdout",
     "output_type": "stream",
     "text": [
      "Table 'employees' already exists.\n"
     ]
    }
   ],
   "source": [
    "table_name = \"employees\"\n",
    "table_definition = \"\"\"\n",
    "id INT AUTO_INCREMENT PRIMARY KEY,\n",
    "name VARCHAR(100),\n",
    "position VARCHAR(100),\n",
    "salary DECIMAL(10,2)\n",
    "\"\"\"\n",
    "abc.create_table(table_name,table_definition)"
   ]
  },
  {
   "cell_type": "code",
   "execution_count": 45,
   "id": "28264a15-07e2-4845-8450-6a45a71dd9fa",
   "metadata": {},
   "outputs": [],
   "source": [
    "table_name = \"employees\"\n",
    "columns = ['name','position','salary']\n",
    "values = ('Alice Johnson', 'Data Analyst',70000.00)"
   ]
  },
  {
   "cell_type": "code",
   "execution_count": 47,
   "id": "969c24ee-e395-4f6d-abe0-3794003a2674",
   "metadata": {},
   "outputs": [
    {
     "name": "stdout",
     "output_type": "stream",
     "text": [
      "Record inserted successfully. Rows affected: 1.\n"
     ]
    }
   ],
   "source": [
    "abc.insert(table_name,columns,values)"
   ]
  },
  {
   "cell_type": "code",
   "execution_count": 49,
   "id": "ae6ec84d-2c2e-4593-b437-0fc288f71673",
   "metadata": {},
   "outputs": [
    {
     "data": {
      "text/plain": [
       "[{'id': 1,\n",
       "  'name': 'Alice Johnson',\n",
       "  'position': 'Data Analyst',\n",
       "  'salary': Decimal('70000.00')},\n",
       " {'id': 2,\n",
       "  'name': 'John Giblson',\n",
       "  'position': 'Senior Data Analyst',\n",
       "  'salary': Decimal('829829.88')},\n",
       " {'id': 3,\n",
       "  'name': 'John Giblson',\n",
       "  'position': 'Senior Data Analyst',\n",
       "  'salary': Decimal('829829.88')},\n",
       " {'id': 4,\n",
       "  'name': 'Alice Johnson',\n",
       "  'position': 'Data Analyst',\n",
       "  'salary': Decimal('70000.00')},\n",
       " {'id': 5,\n",
       "  'name': 'Alice Johnson',\n",
       "  'position': 'Data Analyst',\n",
       "  'salary': Decimal('70000.00')},\n",
       " {'id': 7,\n",
       "  'name': 'Alice Johnson',\n",
       "  'position': 'Data Analyst',\n",
       "  'salary': Decimal('70000.00')},\n",
       " {'id': 8,\n",
       "  'name': 'Alice Johnson',\n",
       "  'position': 'Data Analyst',\n",
       "  'salary': Decimal('70000.00')},\n",
       " {'id': 10,\n",
       "  'name': 'Alice Johnson',\n",
       "  'position': 'Data Analyst',\n",
       "  'salary': Decimal('70000.00')},\n",
       " {'id': 12,\n",
       "  'name': 'Alice Johnson',\n",
       "  'position': 'Data Analyst',\n",
       "  'salary': Decimal('70000.00')}]"
      ]
     },
     "execution_count": 49,
     "metadata": {},
     "output_type": "execute_result"
    }
   ],
   "source": [
    "QUERY = \"SELECT * FROM EMPLOYEES\"\n",
    "abc.fetch_all(QUERY)"
   ]
  },
  {
   "cell_type": "code",
   "execution_count": 51,
   "id": "b62d3aca-fc6b-4371-afab-6df503e904e5",
   "metadata": {},
   "outputs": [
    {
     "name": "stdout",
     "output_type": "stream",
     "text": [
      "{'id': 1, 'name': 'Alice Johnson', 'position': 'Data Analyst', 'salary': Decimal('70000.00')}\n"
     ]
    }
   ],
   "source": [
    "QUERY = \"SELECT * FROM employees WHERE id = %s\"\n",
    "PARAMS = (1,)\n",
    "RESULT = abc.fetch_one(QUERY,PARAMS)\n",
    "print(RESULT)"
   ]
  },
  {
   "cell_type": "code",
   "execution_count": 53,
   "id": "2f72a266-97fe-42c2-8286-86ecf8609d8f",
   "metadata": {},
   "outputs": [
    {
     "name": "stdout",
     "output_type": "stream",
     "text": [
      "{'id': 1, 'name': 'Alice Johnson', 'position': 'Data Analyst', 'salary': Decimal('70000.00')}\n"
     ]
    }
   ],
   "source": [
    "QUERY = \"SELECT * FROM employees\"\n",
    "result = abc.fetch_one(QUERY)\n",
    "print(result)"
   ]
  },
  {
   "cell_type": "code",
   "execution_count": 55,
   "id": "8e33bfdb-f6f2-435f-b14d-44339e200824",
   "metadata": {},
   "outputs": [
    {
     "name": "stdout",
     "output_type": "stream",
     "text": [
      "No records were updated because no matching records were found.\n"
     ]
    }
   ],
   "source": [
    "table = \"employees\"\n",
    "set_values = {'name' : 'John Giblson', 'position' : 'Senior Data Analyst','salary' : '829829.88'}\n",
    "where_clause = \"id = '2'\"\n",
    "\n",
    "abc.update(table,set_values,where_clause)"
   ]
  },
  {
   "cell_type": "code",
   "execution_count": 58,
   "id": "ef5a75bd-1be5-4a07-8456-6e0428ee0485",
   "metadata": {},
   "outputs": [
    {
     "name": "stdout",
     "output_type": "stream",
     "text": [
      "Record(s) updated successfully. Rows affected: 1.\n"
     ]
    }
   ],
   "source": [
    "table = \"employees\"\n",
    "set_values = {'name' : 'John Giblson', 'position' : 'Senior Data Analyst','salary' : '829829.88'}\n",
    "where_clause = \"id = '7'\"\n",
    "\n",
    "abc.update(table,set_values,where_clause)"
   ]
  },
  {
   "cell_type": "code",
   "execution_count": 60,
   "id": "135d7e10-38e0-47b7-990f-eead804d8590",
   "metadata": {},
   "outputs": [
    {
     "data": {
      "text/plain": [
       "[{'id': 1,\n",
       "  'name': 'Alice Johnson',\n",
       "  'position': 'Data Analyst',\n",
       "  'salary': Decimal('70000.00')},\n",
       " {'id': 2,\n",
       "  'name': 'John Giblson',\n",
       "  'position': 'Senior Data Analyst',\n",
       "  'salary': Decimal('829829.88')},\n",
       " {'id': 3,\n",
       "  'name': 'John Giblson',\n",
       "  'position': 'Senior Data Analyst',\n",
       "  'salary': Decimal('829829.88')},\n",
       " {'id': 4,\n",
       "  'name': 'Alice Johnson',\n",
       "  'position': 'Data Analyst',\n",
       "  'salary': Decimal('70000.00')},\n",
       " {'id': 5,\n",
       "  'name': 'Alice Johnson',\n",
       "  'position': 'Data Analyst',\n",
       "  'salary': Decimal('70000.00')},\n",
       " {'id': 7,\n",
       "  'name': 'John Giblson',\n",
       "  'position': 'Senior Data Analyst',\n",
       "  'salary': Decimal('829829.88')},\n",
       " {'id': 8,\n",
       "  'name': 'Alice Johnson',\n",
       "  'position': 'Data Analyst',\n",
       "  'salary': Decimal('70000.00')},\n",
       " {'id': 10,\n",
       "  'name': 'Alice Johnson',\n",
       "  'position': 'Data Analyst',\n",
       "  'salary': Decimal('70000.00')},\n",
       " {'id': 12,\n",
       "  'name': 'Alice Johnson',\n",
       "  'position': 'Data Analyst',\n",
       "  'salary': Decimal('70000.00')}]"
      ]
     },
     "execution_count": 60,
     "metadata": {},
     "output_type": "execute_result"
    }
   ],
   "source": [
    "QUERY = \"SELECT * FROM EMPLOYEES\"\n",
    "abc.fetch_all(QUERY)"
   ]
  },
  {
   "cell_type": "code",
   "execution_count": 62,
   "id": "e1b2188d-59b6-489f-b8ea-c6dc1c26cace",
   "metadata": {},
   "outputs": [
    {
     "name": "stdout",
     "output_type": "stream",
     "text": [
      "No records were deleted because no matching records were found.\n"
     ]
    }
   ],
   "source": [
    "table = \"employees\"\n",
    "where_clause = \"id = '11'\"\n",
    "abc.delete(table,where_clause)"
   ]
  },
  {
   "cell_type": "code",
   "execution_count": 64,
   "id": "130691a0-624c-41e0-bade-556b39c30f32",
   "metadata": {},
   "outputs": [
    {
     "data": {
      "text/plain": [
       "[{'id': 1,\n",
       "  'name': 'Alice Johnson',\n",
       "  'position': 'Data Analyst',\n",
       "  'salary': Decimal('70000.00')},\n",
       " {'id': 2,\n",
       "  'name': 'John Giblson',\n",
       "  'position': 'Senior Data Analyst',\n",
       "  'salary': Decimal('829829.88')},\n",
       " {'id': 3,\n",
       "  'name': 'John Giblson',\n",
       "  'position': 'Senior Data Analyst',\n",
       "  'salary': Decimal('829829.88')},\n",
       " {'id': 4,\n",
       "  'name': 'Alice Johnson',\n",
       "  'position': 'Data Analyst',\n",
       "  'salary': Decimal('70000.00')},\n",
       " {'id': 5,\n",
       "  'name': 'Alice Johnson',\n",
       "  'position': 'Data Analyst',\n",
       "  'salary': Decimal('70000.00')},\n",
       " {'id': 7,\n",
       "  'name': 'John Giblson',\n",
       "  'position': 'Senior Data Analyst',\n",
       "  'salary': Decimal('829829.88')},\n",
       " {'id': 8,\n",
       "  'name': 'Alice Johnson',\n",
       "  'position': 'Data Analyst',\n",
       "  'salary': Decimal('70000.00')},\n",
       " {'id': 10,\n",
       "  'name': 'Alice Johnson',\n",
       "  'position': 'Data Analyst',\n",
       "  'salary': Decimal('70000.00')},\n",
       " {'id': 12,\n",
       "  'name': 'Alice Johnson',\n",
       "  'position': 'Data Analyst',\n",
       "  'salary': Decimal('70000.00')}]"
      ]
     },
     "execution_count": 64,
     "metadata": {},
     "output_type": "execute_result"
    }
   ],
   "source": [
    "QUERY = \"SELECT * FROM EMPLOYEES\"\n",
    "abc.fetch_all(QUERY)"
   ]
  },
  {
   "cell_type": "code",
   "execution_count": 66,
   "id": "e387a31b-180e-4149-b96d-8245c64ee88c",
   "metadata": {},
   "outputs": [
    {
     "name": "stdout",
     "output_type": "stream",
     "text": [
      "Record(s) deleted successfully. Rows affected: 1.\n"
     ]
    }
   ],
   "source": [
    "table = \"employees\"\n",
    "where_clause = \"id = '12'\"\n",
    "abc.delete(table,where_clause)"
   ]
  },
  {
   "cell_type": "code",
   "execution_count": 70,
   "id": "ed574f00-0ce4-4d8e-a06a-7debf51266e5",
   "metadata": {},
   "outputs": [],
   "source": [
    "# q5 : create a class to implement insert , uupdate and delete in monngo db \n",
    "# q6 : create a class to perform append and delete operation in a file and inherit it in child class \n",
    "# q7 : create a class to import a data into file from mongo db \n",
    "# q8 : Create a class to build a calculator funcnalities addition , subtraction , multiplication ,div , log , exponenet , power \n",
    "# q9 : create a class method to find a time and space complexity of any function\n",
    "# q10: create a class to do a bulk uplaod of a file in mysql \n",
    "# q11: give 10 different example of ploymorphism , encaptulation ,data  abstraction , overloading , ovverriding , multiple inheritance\n",
    "# q12: Try to explore a meaning of \"-> \" this sinnature in python "
   ]
  },
  {
   "cell_type": "code",
   "execution_count": 72,
   "id": "eb0eed3d-8db8-4f82-aa77-512a12d7df07",
   "metadata": {},
   "outputs": [
    {
     "name": "stdout",
     "output_type": "stream",
     "text": [
      "Collecting pymongo\n",
      "  Downloading pymongo-4.8.0-cp312-cp312-win_amd64.whl.metadata (22 kB)\n",
      "Collecting dnspython<3.0.0,>=1.16.0 (from pymongo)\n",
      "  Downloading dnspython-2.6.1-py3-none-any.whl.metadata (5.8 kB)\n",
      "Downloading pymongo-4.8.0-cp312-cp312-win_amd64.whl (680 kB)\n",
      "   ---------------------------------------- 0.0/680.4 kB ? eta -:--:--\n",
      "   -- ------------------------------------ 41.0/680.4 kB 991.0 kB/s eta 0:00:01\n",
      "   --------------------- ------------------ 368.6/680.4 kB 4.6 MB/s eta 0:00:01\n",
      "   ---------------------------------------- 680.4/680.4 kB 5.4 MB/s eta 0:00:00\n",
      "Downloading dnspython-2.6.1-py3-none-any.whl (307 kB)\n",
      "   ---------------------------------------- 0.0/307.7 kB ? eta -:--:--\n",
      "   ---------------------------------------- 307.7/307.7 kB 9.3 MB/s eta 0:00:00\n",
      "Installing collected packages: dnspython, pymongo\n",
      "Successfully installed dnspython-2.6.1 pymongo-4.8.0\n",
      "Note: you may need to restart the kernel to use updated packages.\n"
     ]
    }
   ],
   "source": [
    "pip install pymongo"
   ]
  },
  {
   "cell_type": "code",
   "execution_count": null,
   "id": "a210401d-111c-447b-bd6e-ed974c38264e",
   "metadata": {},
   "outputs": [],
   "source": [
    "from pymongo.mongo_client import MongoClient\n",
    "\n",
    "class MongoDB():\n",
    "    def __init__(self,username,password):\n",
    "        self.username = username\n",
    "        self.password = password\n",
    "\n",
    "    def connectToMongoDB:\n",
    "    uri = \"mongodb+srv://\" + username + \":\" + password + "
   ]
  }
 ],
 "metadata": {
  "kernelspec": {
   "display_name": "Python 3 (ipykernel)",
   "language": "python",
   "name": "python3"
  },
  "language_info": {
   "codemirror_mode": {
    "name": "ipython",
    "version": 3
   },
   "file_extension": ".py",
   "mimetype": "text/x-python",
   "name": "python",
   "nbconvert_exporter": "python",
   "pygments_lexer": "ipython3",
   "version": "3.12.4"
  }
 },
 "nbformat": 4,
 "nbformat_minor": 5
}
