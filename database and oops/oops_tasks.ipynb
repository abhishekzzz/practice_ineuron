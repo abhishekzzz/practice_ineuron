{
 "cells": [
  {
   "cell_type": "code",
   "execution_count": 22,
   "id": "65d5f517-f62c-4303-807a-bbd651537923",
   "metadata": {},
   "outputs": [],
   "source": [
    "# q1 : Create your own class to perform a list search operation "
   ]
  },
  {
   "cell_type": "code",
   "execution_count": 10,
   "id": "ba43d4a2-ca1f-4b9b-90c7-df8d7eaeb96b",
   "metadata": {},
   "outputs": [],
   "source": [
    "import logging\n",
    "\n",
    "logging.basicConfig(filename='logger.log',level=logging.DEBUG , filemode = 'w', format=\"%(asctime)s %(levelname)s %(message)s\")\n",
    "\n",
    "class ListSearch:\n",
    "    def __init__(self):\n",
    "        user_input = input(\"Enter a list of numbers separated by commas (eg, 1,2,3,4,5,7): \")\n",
    "        try:\n",
    "            # Convert the input string into a list of integers\n",
    "            self.list_arr = [int(x) for x in user_input.split(',')]\n",
    "            logging.info(f\"List Initialized: {self.list_arr}\")\n",
    "        except ValueError as e:\n",
    "            logging.error(\"Invalid input for the list. Ensure you enter only numbers separated by commas.\")\n",
    "            logging.exception(e)\n",
    "            self.list_arr = [] #deault empty list is input is invalid\n",
    "        \n",
    "    def linear_search(self,target):\n",
    "        try:\n",
    "            logging.info(\"Search Operation.....\" )  \n",
    "            #if target == target/0:\n",
    "             #   _ = 1 / 0 #This will raise ZeroDivisionError\n",
    "            for i in range(len(self.list_arr )):\n",
    "                if self.list_arr [i] == target:\n",
    "                    logging.info(\"Successful Search\" )\n",
    "                    return i , True\n",
    "            logging.info(\"Unsuccessful Search\" )\n",
    "            return None, False\n",
    "        except Exception as e:\n",
    "            logging.exception(\"Error Occurred during search\")\n",
    "            return None, False\n",
    "        "
   ]
  },
  {
   "cell_type": "code",
   "execution_count": 12,
   "id": "f8d740d8-5458-45ab-bd79-5f3db8930dfc",
   "metadata": {},
   "outputs": [
    {
     "name": "stdin",
     "output_type": "stream",
     "text": [
      "Enter a list of numbers separated by commas (eg, 1,2,3,4,5,7):  1,2,3,4,5,6,7,8,9\n"
     ]
    }
   ],
   "source": [
    "listsearch_obj = ListSearch ()"
   ]
  },
  {
   "cell_type": "code",
   "execution_count": 13,
   "id": "881139e5-7c7e-4e40-829a-2b8889e78cde",
   "metadata": {},
   "outputs": [
    {
     "data": {
      "text/plain": [
       "[1, 2, 3, 4, 5, 6, 7, 8, 9]"
      ]
     },
     "execution_count": 13,
     "metadata": {},
     "output_type": "execute_result"
    }
   ],
   "source": [
    "listsearch_obj.list_arr"
   ]
  },
  {
   "cell_type": "code",
   "execution_count": 14,
   "id": "25b32323-9448-42cb-bc32-c2b7710dbbb0",
   "metadata": {},
   "outputs": [
    {
     "data": {
      "text/plain": [
       "(4, True)"
      ]
     },
     "execution_count": 14,
     "metadata": {},
     "output_type": "execute_result"
    }
   ],
   "source": [
    "listsearch_obj.linear_search(5)"
   ]
  },
  {
   "cell_type": "code",
   "execution_count": 15,
   "id": "05264608-005b-4b93-bd7e-4234fddbfa7e",
   "metadata": {},
   "outputs": [
    {
     "data": {
      "text/plain": [
       "(None, False)"
      ]
     },
     "execution_count": 15,
     "metadata": {},
     "output_type": "execute_result"
    }
   ],
   "source": [
    "listsearch_obj.linear_search(0)"
   ]
  },
  {
   "cell_type": "code",
   "execution_count": 17,
   "id": "2b9e271d-1694-462d-8151-5af5b1714338",
   "metadata": {},
   "outputs": [],
   "source": [
    "import logging\n",
    "\n",
    "logging.basicConfig(filename='logger.log', level=logging.DEBUG, filemode='w', format=\"%(asctime)s %(levelname)s %(message)s\")\n",
    "\n",
    "class ListSearch:\n",
    "    def __init__(self):\n",
    "        while True:\n",
    "            try:\n",
    "                # Ask for the size of the array\n",
    "                size = int(input(\"Enter the size of the array: \"))\n",
    "                if size <= 0:\n",
    "                    raise ValueError(\"Size must be a positive integer.\")\n",
    "                break\n",
    "            except ValueError as e:\n",
    "                logging.error(\"Invalid input for array size. Must be a positive integer.\")\n",
    "                logging.exception(e)\n",
    "                print(\"Invalid size. Please try again.\")\n",
    "\n",
    "        while True:\n",
    "            try:\n",
    "                # Ask for the array elements\n",
    "                user_input = input(f\"Enter {size} numbers separated by commas (e.g., 1,2,3,...): \")\n",
    "                # Convert the input string into a list of integers\n",
    "                self.list_arr = [int(x) for x in user_input.split(',')]\n",
    "                \n",
    "                # Validate the length of the list\n",
    "                if len(self.list_arr) != size:\n",
    "                    raise ValueError(f\"Expected {size} numbers, but got {len(self.list_arr)}.\")\n",
    "                \n",
    "                logging.info(f\"List Initialized: {self.list_arr}\")\n",
    "                break\n",
    "            except ValueError as e:\n",
    "                logging.error(\"Invalid input for the list. Ensure you enter the correct number of integers.\")\n",
    "                logging.exception(e)\n",
    "                self.list_arr = []  # Default to an empty list on error\n",
    "                print(\"Invalid input. Please try again.\")\n",
    "\n",
    "    def linear_search(self, target):\n",
    "        try:\n",
    "            logging.info(\"Search Operation started...\")\n",
    "            # Uncomment the next lines if you want to simulate an error\n",
    "            # if target == target / 0:\n",
    "            #     _ = 1 / 0  # This will raise ZeroDivisionError\n",
    "\n",
    "            for i in range(len(self.list_arr)):\n",
    "                if self.list_arr[i] == target:\n",
    "                    logging.info(f\"Successful Search: Found target {target} at index {i}.\")\n",
    "                    return i, True\n",
    "            logging.info(f\"Unsuccessful Search: Target {target} not found.\")\n",
    "            return None, False\n",
    "        except Exception as e:\n",
    "            logging.exception(\"Error Occurred during search\")\n",
    "            return None, False\n"
   ]
  },
  {
   "cell_type": "code",
   "execution_count": 19,
   "id": "1c02e515-c069-4099-b690-c6540079a002",
   "metadata": {},
   "outputs": [
    {
     "name": "stdin",
     "output_type": "stream",
     "text": [
      "Enter the size of the array:  2\n",
      "Enter 2 numbers separated by commas (e.g., 1,2,3,...):  1,2,3,3\n"
     ]
    },
    {
     "name": "stdout",
     "output_type": "stream",
     "text": [
      "Invalid input. Please try again.\n"
     ]
    },
    {
     "name": "stdin",
     "output_type": "stream",
     "text": [
      "Enter 2 numbers separated by commas (e.g., 1,2,3,...):  1,2\n"
     ]
    }
   ],
   "source": [
    "# Create the ListSearch object\n",
    "listsearch_obj = ListSearch()"
   ]
  },
  {
   "cell_type": "code",
   "execution_count": 20,
   "id": "67a0d83d-b4a8-4616-967a-81a1a5b34421",
   "metadata": {},
   "outputs": [
    {
     "data": {
      "text/plain": [
       "(None, False)"
      ]
     },
     "execution_count": 20,
     "metadata": {},
     "output_type": "execute_result"
    }
   ],
   "source": [
    "listsearch_obj.linear_search(5)"
   ]
  },
  {
   "cell_type": "code",
   "execution_count": 21,
   "id": "3db257df-d929-4729-a200-26340b3b6fe5",
   "metadata": {},
   "outputs": [
    {
     "data": {
      "text/plain": [
       "(0, True)"
      ]
     },
     "execution_count": 21,
     "metadata": {},
     "output_type": "execute_result"
    }
   ],
   "source": [
    "listsearch_obj.linear_search(1)"
   ]
  },
  {
   "cell_type": "code",
   "execution_count": 23,
   "id": "24044b97-1c50-4849-9b62-ce78e96f0963",
   "metadata": {},
   "outputs": [],
   "source": [
    "# q2 : create a class for dict new element addition"
   ]
  },
  {
   "cell_type": "code",
   "execution_count": 24,
   "id": "aea3e353-345b-475d-b5a2-b532512170ce",
   "metadata": {},
   "outputs": [],
   "source": [
    "import logging\n",
    "\n",
    "logging.basicConfig(filename='newlogger1.log', level=logging.DEBUG, filemode='w', format=\"%(asctime)s %(levelname)s %(message)s\")\n",
    "\n",
    "class DictManager:\n",
    "    def __init__(self):\n",
    "        self.my_dict = {}\n",
    "        \n",
    "    def add_element(self,key,value):\n",
    "        logging.info(\"This is to add element to dict\" )\n",
    "        if key in self.my_dict:\n",
    "            logging.error(\"This element is already present into dict\" )\n",
    "            print(f\" Key '{key}' already exists. Updating the value.\")\n",
    "        self.my_dict[key] = value\n",
    "        logging.info(\"This element is Added/Updated into dict \" )\n",
    "        print(f\"Added/Updated: {key} -> {value}\")\n",
    "            \n",
    "    def remove_element(self, key):\n",
    "        if key in self.my_dict:\n",
    "            del self.my_dict[key]\n",
    "            logging.info(\"This element is deleted from dict\" )\n",
    "            print(\"Removed: {key}\")\n",
    "        else:\n",
    "            logging.error(\"This element is not found in dict\" )\n",
    "            print(f\"Key '{key} is not found.\")\n",
    "            \n",
    "    def get_element(self,key):\n",
    "        logging.error(\"This element is not found in dict\" )\n",
    "        return self.my_dict.get(key,\"Key not found.\")\n",
    "    \n",
    "    def display_dict(self):\n",
    "        logging.info(\"This element is displayed from dict\" )\n",
    "        return self.my_dict"
   ]
  },
  {
   "cell_type": "code",
   "execution_count": 14,
   "id": "1d9ca15c-5368-4a89-be63-8a48093de397",
   "metadata": {},
   "outputs": [],
   "source": [
    "m = DictManager()"
   ]
  },
  {
   "cell_type": "code",
   "execution_count": 15,
   "id": "e04c0ce1-e93c-48f6-b962-f0e2a5dfed38",
   "metadata": {},
   "outputs": [
    {
     "name": "stdout",
     "output_type": "stream",
     "text": [
      "Added/Updated: name -> Alice\n"
     ]
    }
   ],
   "source": [
    "m.add_element('name','Alice')"
   ]
  },
  {
   "cell_type": "code",
   "execution_count": 16,
   "id": "8a13cf69-ddfa-49b8-af32-cccafd013741",
   "metadata": {},
   "outputs": [
    {
     "name": "stdout",
     "output_type": "stream",
     "text": [
      "Added/Updated: age -> 30\n"
     ]
    }
   ],
   "source": [
    "m.add_element('age',30)"
   ]
  },
  {
   "cell_type": "code",
   "execution_count": 17,
   "id": "50908abf-5b2f-4ddd-a07e-7a981ea49215",
   "metadata": {},
   "outputs": [
    {
     "data": {
      "text/plain": [
       "{'name': 'Alice', 'age': 30}"
      ]
     },
     "execution_count": 17,
     "metadata": {},
     "output_type": "execute_result"
    }
   ],
   "source": [
    "m.display_dict()"
   ]
  },
  {
   "cell_type": "code",
   "execution_count": 18,
   "id": "7f2a4912-d0b8-4bd0-8886-13aa02c69e7e",
   "metadata": {},
   "outputs": [
    {
     "data": {
      "text/plain": [
       "'Key not found.'"
      ]
     },
     "execution_count": 18,
     "metadata": {},
     "output_type": "execute_result"
    }
   ],
   "source": [
    "m.get_element('Alice')"
   ]
  },
  {
   "cell_type": "code",
   "execution_count": 19,
   "id": "cb29cc7d-7653-4766-9713-0fb916dad586",
   "metadata": {},
   "outputs": [
    {
     "data": {
      "text/plain": [
       "30"
      ]
     },
     "execution_count": 19,
     "metadata": {},
     "output_type": "execute_result"
    }
   ],
   "source": [
    "m.get_element('age')"
   ]
  },
  {
   "cell_type": "code",
   "execution_count": 20,
   "id": "8f8904b9-e19e-49a2-a59f-5a186b2f4c56",
   "metadata": {},
   "outputs": [
    {
     "name": "stdout",
     "output_type": "stream",
     "text": [
      "Key '30 is not found.\n"
     ]
    }
   ],
   "source": [
    "m.remove_element(30)"
   ]
  },
  {
   "cell_type": "code",
   "execution_count": 21,
   "id": "0836111d-cf28-46b6-8850-7735e8c801ba",
   "metadata": {},
   "outputs": [
    {
     "name": "stdout",
     "output_type": "stream",
     "text": [
      "Removed: {key}\n"
     ]
    }
   ],
   "source": [
    "m.remove_element('age')"
   ]
  },
  {
   "cell_type": "code",
   "execution_count": 22,
   "id": "c40bd17b-3284-4b51-a2be-d0fcb8cdeb3d",
   "metadata": {},
   "outputs": [
    {
     "data": {
      "text/plain": [
       "{'name': 'Alice'}"
      ]
     },
     "execution_count": 22,
     "metadata": {},
     "output_type": "execute_result"
    }
   ],
   "source": [
    "m.display_dict()"
   ]
  },
  {
   "cell_type": "code",
   "execution_count": 307,
   "id": "27dcab27-31ba-4f49-b1fb-47b9477435dd",
   "metadata": {},
   "outputs": [],
   "source": [
    "# q3 : create a class for tuple data extraction operation"
   ]
  },
  {
   "cell_type": "code",
   "execution_count": 287,
   "id": "4b20b7a7-9e88-4d09-a97e-1348fbdc6230",
   "metadata": {},
   "outputs": [],
   "source": [
    "import logging\n",
    "\n",
    "# Set up logging configuration\n",
    "logging.basicConfig(level=logging.DEBUG, format='%(asctime)s - %(levelname)s - %(message)s')\n",
    "\n",
    "class TupleExtractor:\n",
    "    def __init__(self, data):\n",
    "        if not isinstance(data, tuple):\n",
    "            logging.error(\"Initialization failed: Data must be a tuple.\")\n",
    "            raise TypeError(\"Data must be a tuple.\")\n",
    "        self.data = data\n",
    "        self.flattened_data = self.flatten(data)\n",
    "        self.index_map = self.create_index_map(self.flattened_data)\n",
    "        logging.info(f\"Initialized with data: {self.data}\")\n",
    "\n",
    "    def get_element(self, index):\n",
    "        \"\"\"Returns the element at the specified index in the flattened version of the tuple.\"\"\"\n",
    "        try:\n",
    "            result = self.flattened_data[index]\n",
    "            logging.info(f\"Retrieved element at index {index}: {result}\")\n",
    "            return result\n",
    "        except IndexError:\n",
    "            logging.error(f\"Index out of range: {index}\")\n",
    "            raise IndexError(\"Index out of range.\")\n",
    "\n",
    "    def get_slice(self, start=None, end=None):\n",
    "        \"\"\"Returns a slice of the flattened version of the tuple from start to end.\"\"\"\n",
    "        result = self.flattened_data[start:end]\n",
    "        logging.info(f\"Retrieved slice from index {start} to {end}: {result}\")\n",
    "        return result\n",
    "\n",
    "    def find_element(self, value):\n",
    "        \"\"\"Returns a list of indices where the value is found in the flattened tuple.\"\"\"\n",
    "        indices = self.index_map.get(value, [])\n",
    "        if indices:\n",
    "            logging.info(f\"Found element {value} at indices {indices}\")\n",
    "        else:\n",
    "            logging.warning(f\"Element {value} not found.\")\n",
    "        return indices\n",
    "\n",
    "    def get_length(self):\n",
    "        \"\"\"Returns the length of the flattened version of the tuple.\"\"\"\n",
    "        length = len(self.flattened_data)\n",
    "        logging.info(f\"Length of flattened tuple: {length}\")\n",
    "        return length\n",
    "\n",
    "    def count_occurrences(self, value):\n",
    "        \"\"\"Returns the number of occurrences of the value in the flattened version of the tuple.\"\"\"\n",
    "        count = len(self.index_map.get(value, []))\n",
    "        logging.info(f\"Count of element {value}: {count}\")\n",
    "        return count\n",
    "\n",
    "    def flatten(self, data):\n",
    "        \"\"\"Recursively flattens a nested tuple.\"\"\"\n",
    "        flattened = []\n",
    "        for elem in data:\n",
    "            if isinstance(elem, tuple):\n",
    "                flattened.extend(self.flatten(elem))\n",
    "            else:\n",
    "                flattened.append(elem)\n",
    "        logging.debug(f\"Flattened data: {flattened}\")\n",
    "        return flattened\n",
    "\n",
    "    def create_index_map(self, flattened_data):\n",
    "        \"\"\"Creates a map of element values to their indices.\"\"\"\n",
    "        index_map = {}\n",
    "        for i, value in enumerate(flattened_data):\n",
    "            if value not in index_map:\n",
    "                index_map[value] = []\n",
    "            index_map[value].append(i)\n",
    "        return index_map"
   ]
  },
  {
   "cell_type": "code",
   "execution_count": 288,
   "id": "8132a3d9-efae-4eee-bf76-b76cc20cdeb5",
   "metadata": {},
   "outputs": [],
   "source": [
    "data1 = (10,20,(30,40),50,60)"
   ]
  },
  {
   "cell_type": "code",
   "execution_count": 289,
   "id": "5e898612-d237-4211-8e48-cd4b94ac91a0",
   "metadata": {},
   "outputs": [],
   "source": [
    "tup1 = Tuple_data_extract(data1)"
   ]
  },
  {
   "cell_type": "code",
   "execution_count": 290,
   "id": "fd9ce3e7-986a-4023-b7a7-bcec594ab330",
   "metadata": {},
   "outputs": [
    {
     "data": {
      "text/plain": [
       "20"
      ]
     },
     "execution_count": 290,
     "metadata": {},
     "output_type": "execute_result"
    }
   ],
   "source": [
    "tup1.get_element(1)"
   ]
  },
  {
   "cell_type": "code",
   "execution_count": 291,
   "id": "545e537d-79c0-447f-9633-e698266dc836",
   "metadata": {},
   "outputs": [
    {
     "data": {
      "text/plain": [
       "[40, 50, 60]"
      ]
     },
     "execution_count": 291,
     "metadata": {},
     "output_type": "execute_result"
    }
   ],
   "source": [
    "tup1.get_slice(-3)"
   ]
  },
  {
   "cell_type": "code",
   "execution_count": 292,
   "id": "9519de0f-f22e-45bc-8bb7-c3e67a6ce2ff",
   "metadata": {},
   "outputs": [
    {
     "data": {
      "text/plain": [
       "[(2, 1)]"
      ]
     },
     "execution_count": 292,
     "metadata": {},
     "output_type": "execute_result"
    }
   ],
   "source": [
    "tup1.find_element(40)"
   ]
  },
  {
   "cell_type": "code",
   "execution_count": 293,
   "id": "adeb3ba5-3bd7-4bfe-85e4-5af67d2af231",
   "metadata": {},
   "outputs": [
    {
     "data": {
      "text/plain": [
       "[]"
      ]
     },
     "execution_count": 293,
     "metadata": {},
     "output_type": "execute_result"
    }
   ],
   "source": [
    "tup1.find_element(170)"
   ]
  },
  {
   "cell_type": "code",
   "execution_count": 294,
   "id": "d1e7e6b2-9c74-4e8d-90e6-7aed16f1fff7",
   "metadata": {},
   "outputs": [],
   "source": [
    "data2 = (10,20,30,40,50,60)"
   ]
  },
  {
   "cell_type": "code",
   "execution_count": 295,
   "id": "abbbb53e-6da8-4ccc-a994-0b9a207d2885",
   "metadata": {},
   "outputs": [],
   "source": [
    "tup2 = Tuple_data_extract(data2)"
   ]
  },
  {
   "cell_type": "code",
   "execution_count": 296,
   "id": "440de7cd-c82c-457c-abff-183c2d1fb844",
   "metadata": {},
   "outputs": [
    {
     "data": {
      "text/plain": [
       "[(3,)]"
      ]
     },
     "execution_count": 296,
     "metadata": {},
     "output_type": "execute_result"
    }
   ],
   "source": [
    "tup2.find_element(40)"
   ]
  },
  {
   "cell_type": "code",
   "execution_count": 297,
   "id": "da77a7ec-8129-4ca2-a0c9-554e0d201995",
   "metadata": {},
   "outputs": [],
   "source": [
    "data3 = (10,(20,(30),(70,40),50),40,60)"
   ]
  },
  {
   "cell_type": "code",
   "execution_count": 298,
   "id": "e36ed2db-c763-452c-ac1f-39009e9c0d33",
   "metadata": {},
   "outputs": [],
   "source": [
    "tup3 = Tuple_data_extract(data3)"
   ]
  },
  {
   "cell_type": "code",
   "execution_count": 299,
   "id": "8bca4652-df4e-47ae-9c08-7355ecca4f1a",
   "metadata": {},
   "outputs": [
    {
     "data": {
      "text/plain": [
       "[(1, 2, 1), (2,)]"
      ]
     },
     "execution_count": 299,
     "metadata": {},
     "output_type": "execute_result"
    }
   ],
   "source": [
    "tup3.find_element(40)"
   ]
  },
  {
   "cell_type": "code",
   "execution_count": 300,
   "id": "b32b9fa7-b079-4d06-8bc4-270fcc0ff2dc",
   "metadata": {},
   "outputs": [
    {
     "data": {
      "text/plain": [
       "1"
      ]
     },
     "execution_count": 300,
     "metadata": {},
     "output_type": "execute_result"
    }
   ],
   "source": [
    "tup3.count_occurrences(60)"
   ]
  },
  {
   "cell_type": "code",
   "execution_count": 301,
   "id": "ae4798c4-5542-4dd4-9a42-71379c3f2747",
   "metadata": {},
   "outputs": [
    {
     "data": {
      "text/plain": [
       "2"
      ]
     },
     "execution_count": 301,
     "metadata": {},
     "output_type": "execute_result"
    }
   ],
   "source": [
    "tup3.count_occurrences(40)"
   ]
  },
  {
   "cell_type": "code",
   "execution_count": 302,
   "id": "53a72c49-f5b0-42fc-9f9c-690999d03590",
   "metadata": {},
   "outputs": [],
   "source": [
    "data4 = (10, (20, (30,), (70, 40), 50), 60)"
   ]
  },
  {
   "cell_type": "code",
   "execution_count": 303,
   "id": "8cd7cdd1-b0fd-4358-8d0d-c10d566d5c5f",
   "metadata": {},
   "outputs": [],
   "source": [
    "tup4 = Tuple_data_extract(data4)"
   ]
  },
  {
   "cell_type": "code",
   "execution_count": 304,
   "id": "e5f96c36-a971-4f37-8251-9545bb1fcb39",
   "metadata": {},
   "outputs": [
    {
     "data": {
      "text/plain": [
       "1"
      ]
     },
     "execution_count": 304,
     "metadata": {},
     "output_type": "execute_result"
    }
   ],
   "source": [
    "tup4.count_occurrences(40)"
   ]
  },
  {
   "cell_type": "code",
   "execution_count": 305,
   "id": "03395c64-5d66-4a0d-8459-1a21b48f7140",
   "metadata": {},
   "outputs": [
    {
     "data": {
      "text/plain": [
       "[(1, 2, 1)]"
      ]
     },
     "execution_count": 305,
     "metadata": {},
     "output_type": "execute_result"
    }
   ],
   "source": [
    "tup4.find_element(40)"
   ]
  },
  {
   "cell_type": "code",
   "execution_count": 306,
   "id": "27164a86-c91d-4872-800e-caec9a19f9ee",
   "metadata": {},
   "outputs": [
    {
     "data": {
      "text/plain": [
       "7"
      ]
     },
     "execution_count": 306,
     "metadata": {},
     "output_type": "execute_result"
    }
   ],
   "source": [
    "tup4.get_length()"
   ]
  },
  {
   "cell_type": "code",
   "execution_count": 311,
   "id": "6d431c5b-b426-4fa5-86aa-534b5f2a6efe",
   "metadata": {},
   "outputs": [],
   "source": [
    "# q4 : Create a class to implement all insert , update , delete operation for mysql\n",
    "# q5 : create a class to implement insert , uupdate and delete in monngo db \n",
    "# q6 : create a class to perform append and delete operation in a file and inherit it in child class \n",
    "# q7 : create a class to import a data into file from mongo db \n",
    "# q8 : Create a class to build a calculator funcnalities addition , subtraction , multiplication ,div , log , exponenet , power \n",
    "# q9 : create a class method to find a time and space complexity of any function\n",
    "# q10: create a class to do a bulk uplaod of a file in mysql \n",
    "# q11: give 10 different example of ploymorphism , encaptulation ,data  abstraction , overloading , ovverriding , multiple inheritance\n",
    "# q12: Try to explore a meaning of \"-> \" this sinnature in python "
   ]
  },
  {
   "cell_type": "code",
   "execution_count": 312,
   "id": "ed32d812-23a2-4820-a92c-8f02cc83ac76",
   "metadata": {},
   "outputs": [
    {
     "name": "stdout",
     "output_type": "stream",
     "text": [
      "Collecting mysql-connector-python\n",
      "  Downloading mysql_connector_python-9.0.0-cp310-cp310-manylinux_2_17_x86_64.whl (19.3 MB)\n",
      "\u001b[2K     \u001b[90m━━━━━━━━━━━━━━━━━━━━━━━━━━━━━━━━━━━━━━━━\u001b[0m \u001b[32m19.3/19.3 MB\u001b[0m \u001b[31m45.8 MB/s\u001b[0m eta \u001b[36m0:00:00\u001b[0m00:01\u001b[0m00:01\u001b[0m\n",
      "\u001b[?25hInstalling collected packages: mysql-connector-python\n",
      "Successfully installed mysql-connector-python-9.0.0\n",
      "Note: you may need to restart the kernel to use updated packages.\n"
     ]
    }
   ],
   "source": [
    "pip install mysql-connector-python"
   ]
  },
  {
   "cell_type": "code",
   "execution_count": 317,
   "id": "53605248-8cb6-4ba8-9deb-d57b18dec320",
   "metadata": {},
   "outputs": [
    {
     "name": "stdout",
     "output_type": "stream",
     "text": [
      "Error: 2003 (HY000): Can't connect to MySQL server on '127.0.0.1:3306' (111)\n"
     ]
    }
   ],
   "source": [
    "import mysql.connector\n",
    "from mysql.connector import Error\n",
    "\n",
    "def connect_to_database(host, port, user, password, database=None):\n",
    "    \"\"\"Establishes a connection to the MySQL database.\"\"\"\n",
    "    try:\n",
    "        # Create a connection object\n",
    "        connection = mysql.connector.connect(\n",
    "            host=host,\n",
    "            port=port,\n",
    "            user=user,\n",
    "            password=password,\n",
    "            database=database  # Optional, omit if not connecting to a specific database\n",
    "        )\n",
    "        if connection.is_connected():\n",
    "            print(\"Successfully connected to the database.\")\n",
    "            return connection\n",
    "    except Error as e:\n",
    "        print(f\"Error: {e}\")\n",
    "        return None\n",
    "\n",
    "def close_connection(connection):\n",
    "    \"\"\"Closes the connection to the MySQL database.\"\"\"\n",
    "    if connection and connection.is_connected():\n",
    "        connection.close()\n",
    "        print(\"Connection closed.\")\n",
    "\n",
    "# Example usage\n",
    "if __name__ == \"__main__\":\n",
    "    # Connection parameters\n",
    "    host = '127.0.0.1'\n",
    "    port = 3306\n",
    "    user = 'abc'\n",
    "    password = 'password'\n",
    "    database = 'ineuron'  # Replace with your database name or leave as None if not using\n",
    "\n",
    "    # Connect to the database\n",
    "    connection = connect_to_database(host, port, user, password, database)\n",
    "\n",
    "    # Do database operations here...\n",
    "\n",
    "    # Close the connection\n",
    "    close_connection(connection)\n"
   ]
  },
  {
   "cell_type": "code",
   "execution_count": 318,
   "id": "661406bd-1db3-4e17-b0a2-77fd63756788",
   "metadata": {},
   "outputs": [
    {
     "name": "stdout",
     "output_type": "stream",
     "text": [
      "Error: 2003 (HY000): Can't connect to MySQL server on '127.0.0.1:3306' (111)\n"
     ]
    }
   ],
   "source": [
    "import mysql.connector\n",
    "from mysql.connector import Error\n",
    "\n",
    "def connect_to_database(host, port, user, password, database=None):\n",
    "    \"\"\"Establishes a connection to the MySQL database.\"\"\"\n",
    "    connection = None\n",
    "    try:\n",
    "        connection = mysql.connector.connect(\n",
    "            host=host,\n",
    "            port=port,\n",
    "            user=user,\n",
    "            password=password,\n",
    "            database=database  # Optional, omit if not connecting to a specific database\n",
    "        )\n",
    "        if connection.is_connected():\n",
    "            print(\"Successfully connected to the database.\")\n",
    "    except Error as e:\n",
    "        print(f\"Error: {e}\")\n",
    "    finally:\n",
    "        return connection\n",
    "\n",
    "def close_connection(connection):\n",
    "    \"\"\"Closes the connection to the MySQL database.\"\"\"\n",
    "    if connection and connection.is_connected():\n",
    "        connection.close()\n",
    "        print(\"Connection closed.\")\n",
    "\n",
    "# Example usage\n",
    "if __name__ == \"__main__\":\n",
    "    host = '127.0.0.1'\n",
    "    port = 3306\n",
    "    user = 'abc'\n",
    "    password = 'password'\n",
    "    database = 'your_database_name'  # Replace with your database name or leave as None if not using\n",
    "\n",
    "    connection = connect_to_database(host, port, user, password, database)\n",
    "\n",
    "    # Perform database operations if connection is successful\n",
    "    if connection:\n",
    "        close_connection(connection)\n"
   ]
  },
  {
   "cell_type": "code",
   "execution_count": 315,
   "id": "181dad16-117e-4560-9ed8-7d632400ed0c",
   "metadata": {},
   "outputs": [
    {
     "name": "stdout",
     "output_type": "stream",
     "text": [
      "Error: 2003 (HY000): Can't connect to MySQL server on 'localhost:3306' (99)\n"
     ]
    },
    {
     "ename": "UnboundLocalError",
     "evalue": "local variable 'cursor' referenced before assignment",
     "output_type": "error",
     "traceback": [
      "\u001b[0;31m---------------------------------------------------------------------------\u001b[0m",
      "\u001b[0;31mAttributeError\u001b[0m                            Traceback (most recent call last)",
      "Cell \u001b[0;32mIn[315], line 35\u001b[0m, in \u001b[0;36mMySQLDatabase.insert\u001b[0;34m(self, table, columns, values)\u001b[0m\n\u001b[1;32m     34\u001b[0m \u001b[38;5;28;01mtry\u001b[39;00m:\n\u001b[0;32m---> 35\u001b[0m     cursor \u001b[38;5;241m=\u001b[39m \u001b[38;5;28;43mself\u001b[39;49m\u001b[38;5;241;43m.\u001b[39;49m\u001b[43mconnection\u001b[49m\u001b[38;5;241;43m.\u001b[39;49m\u001b[43mcursor\u001b[49m()\n\u001b[1;32m     36\u001b[0m     columns_str \u001b[38;5;241m=\u001b[39m \u001b[38;5;124m'\u001b[39m\u001b[38;5;124m, \u001b[39m\u001b[38;5;124m'\u001b[39m\u001b[38;5;241m.\u001b[39mjoin(columns)\n",
      "\u001b[0;31mAttributeError\u001b[0m: 'NoneType' object has no attribute 'cursor'",
      "\nDuring handling of the above exception, another exception occurred:\n",
      "\u001b[0;31mUnboundLocalError\u001b[0m                         Traceback (most recent call last)",
      "Cell \u001b[0;32mIn[315], line 94\u001b[0m\n\u001b[1;32m     91\u001b[0m db\u001b[38;5;241m.\u001b[39mconnect()\n\u001b[1;32m     93\u001b[0m \u001b[38;5;66;03m# Insert example\u001b[39;00m\n\u001b[0;32m---> 94\u001b[0m \u001b[43mdb\u001b[49m\u001b[38;5;241;43m.\u001b[39;49m\u001b[43minsert\u001b[49m\u001b[43m(\u001b[49m\u001b[38;5;124;43m'\u001b[39;49m\u001b[38;5;124;43memployees\u001b[39;49m\u001b[38;5;124;43m'\u001b[39;49m\u001b[43m,\u001b[49m\u001b[43m \u001b[49m\u001b[43m[\u001b[49m\u001b[38;5;124;43m'\u001b[39;49m\u001b[38;5;124;43mname\u001b[39;49m\u001b[38;5;124;43m'\u001b[39;49m\u001b[43m,\u001b[49m\u001b[43m \u001b[49m\u001b[38;5;124;43m'\u001b[39;49m\u001b[38;5;124;43mposition\u001b[39;49m\u001b[38;5;124;43m'\u001b[39;49m\u001b[43m,\u001b[49m\u001b[43m \u001b[49m\u001b[38;5;124;43m'\u001b[39;49m\u001b[38;5;124;43msalary\u001b[39;49m\u001b[38;5;124;43m'\u001b[39;49m\u001b[43m]\u001b[49m\u001b[43m,\u001b[49m\u001b[43m \u001b[49m\u001b[43m(\u001b[49m\u001b[38;5;124;43m'\u001b[39;49m\u001b[38;5;124;43mJohn Doe\u001b[39;49m\u001b[38;5;124;43m'\u001b[39;49m\u001b[43m,\u001b[49m\u001b[43m \u001b[49m\u001b[38;5;124;43m'\u001b[39;49m\u001b[38;5;124;43mDeveloper\u001b[39;49m\u001b[38;5;124;43m'\u001b[39;49m\u001b[43m,\u001b[49m\u001b[43m \u001b[49m\u001b[38;5;241;43m50000\u001b[39;49m\u001b[43m)\u001b[49m\u001b[43m)\u001b[49m\n\u001b[1;32m     96\u001b[0m \u001b[38;5;66;03m# Update example\u001b[39;00m\n\u001b[1;32m     97\u001b[0m db\u001b[38;5;241m.\u001b[39mupdate(\u001b[38;5;124m'\u001b[39m\u001b[38;5;124memployees\u001b[39m\u001b[38;5;124m'\u001b[39m, {\u001b[38;5;124m'\u001b[39m\u001b[38;5;124msalary\u001b[39m\u001b[38;5;124m'\u001b[39m: \u001b[38;5;241m55000\u001b[39m}, \u001b[38;5;124m'\u001b[39m\u001b[38;5;124mname = \u001b[39m\u001b[38;5;124m\"\u001b[39m\u001b[38;5;124mJohn Doe\u001b[39m\u001b[38;5;124m\"\u001b[39m\u001b[38;5;124m'\u001b[39m)\n",
      "Cell \u001b[0;32mIn[315], line 45\u001b[0m, in \u001b[0;36mMySQLDatabase.insert\u001b[0;34m(self, table, columns, values)\u001b[0m\n\u001b[1;32m     43\u001b[0m     \u001b[38;5;28mprint\u001b[39m(\u001b[38;5;124mf\u001b[39m\u001b[38;5;124m\"\u001b[39m\u001b[38;5;124mError: \u001b[39m\u001b[38;5;132;01m{\u001b[39;00me\u001b[38;5;132;01m}\u001b[39;00m\u001b[38;5;124m\"\u001b[39m)\n\u001b[1;32m     44\u001b[0m \u001b[38;5;28;01mfinally\u001b[39;00m:\n\u001b[0;32m---> 45\u001b[0m     \u001b[43mcursor\u001b[49m\u001b[38;5;241m.\u001b[39mclose()\n",
      "\u001b[0;31mUnboundLocalError\u001b[0m: local variable 'cursor' referenced before assignment"
     ]
    }
   ],
   "source": [
    "import mysql.connector\n",
    "from mysql.connector import Error\n",
    "\n",
    "class MySQLDatabase:\n",
    "    def __init__(self, host, user, password, database):\n",
    "        self.host = host\n",
    "        self.user = user\n",
    "        self.password = password\n",
    "        self.database = database\n",
    "        self.connection = None\n",
    "\n",
    "    def connect(self):\n",
    "        \"\"\"Establishes a connection to the MySQL database.\"\"\"\n",
    "        try:\n",
    "            self.connection = mysql.connector.connect(\n",
    "                host=self.host,\n",
    "                user=self.user,\n",
    "                password=self.password,\n",
    "                database=self.database\n",
    "            )\n",
    "            if self.connection.is_connected():\n",
    "                print(\"Successfully connected to the database.\")\n",
    "        except Error as e:\n",
    "            print(f\"Error: {e}\")\n",
    "    \n",
    "    def close(self):\n",
    "        \"\"\"Closes the connection to the MySQL database.\"\"\"\n",
    "        if self.connection.is_connected():\n",
    "            self.connection.close()\n",
    "            print(\"Connection closed.\")\n",
    "    \n",
    "    def insert(self, table, columns, values):\n",
    "        \"\"\"Inserts data into a table.\"\"\"\n",
    "        try:\n",
    "            cursor = self.connection.cursor()\n",
    "            columns_str = ', '.join(columns)\n",
    "            placeholders = ', '.join(['%s'] * len(values))\n",
    "            query = f\"INSERT INTO {table} ({columns_str}) VALUES ({placeholders})\"\n",
    "            cursor.execute(query, values)\n",
    "            self.connection.commit()\n",
    "            print(\"Record inserted successfully.\")\n",
    "        except Error as e:\n",
    "            print(f\"Error: {e}\")\n",
    "        finally:\n",
    "            cursor.close()\n",
    "    \n",
    "    def update(self, table, set_values, where_clause):\n",
    "        \"\"\"Updates records in a table.\"\"\"\n",
    "        try:\n",
    "            cursor = self.connection.cursor()\n",
    "            set_clause = ', '.join([f\"{col} = %s\" for col in set_values.keys()])\n",
    "            query = f\"UPDATE {table} SET {set_clause} WHERE {where_clause}\"\n",
    "            cursor.execute(query, list(set_values.values()))\n",
    "            self.connection.commit()\n",
    "            print(\"Record updated successfully.\")\n",
    "        except Error as e:\n",
    "            print(f\"Error: {e}\")\n",
    "        finally:\n",
    "            cursor.close()\n",
    "\n",
    "    def delete(self, table, where_clause):\n",
    "        \"\"\"Deletes records from a table.\"\"\"\n",
    "        try:\n",
    "            cursor = self.connection.cursor()\n",
    "            query = f\"DELETE FROM {table} WHERE {where_clause}\"\n",
    "            cursor.execute(query)\n",
    "            self.connection.commit()\n",
    "            print(\"Record(s) deleted successfully.\")\n",
    "        except Error as e:\n",
    "            print(f\"Error: {e}\")\n",
    "        finally:\n",
    "            cursor.close()\n",
    "    \n",
    "    def fetch_all(self, query, params=None):\n",
    "        \"\"\"Fetches all records from a query.\"\"\"\n",
    "        try:\n",
    "            cursor = self.connection.cursor(dictionary=True)\n",
    "            cursor.execute(query, params)\n",
    "            result = cursor.fetchall()\n",
    "            return result\n",
    "        except Error as e:\n",
    "            print(f\"Error: {e}\")\n",
    "            return []\n",
    "        finally:\n",
    "            cursor.close()\n",
    "\n",
    "# Example usage:\n",
    "if __name__ == \"__main__\":\n",
    "    # Replace with your MySQL database credentials\n",
    "    db = MySQLDatabase(host='localhost', user='abc', password='password', database='test_db')\n",
    "    db.connect()\n",
    "    \n",
    "    # Insert example\n",
    "    db.insert('employees', ['name', 'position', 'salary'], ('John Doe', 'Developer', 50000))\n",
    "    \n",
    "    # Update example\n",
    "    db.update('employees', {'salary': 55000}, 'name = \"John Doe\"')\n",
    "    \n",
    "    # Delete example\n",
    "    db.delete('employees', 'name = \"John Doe\"')\n",
    "    \n",
    "    # Fetch example\n",
    "    results = db.fetch_all('SELECT * FROM employees')\n",
    "    print(results)\n",
    "    \n",
    "    db.close()"
   ]
  },
  {
   "cell_type": "code",
   "execution_count": null,
   "id": "082f46de-001f-41e1-9231-553d86909bc2",
   "metadata": {},
   "outputs": [],
   "source": []
  }
 ],
 "metadata": {
  "kernelspec": {
   "display_name": "Python 3 (ipykernel)",
   "language": "python",
   "name": "python3"
  },
  "language_info": {
   "codemirror_mode": {
    "name": "ipython",
    "version": 3
   },
   "file_extension": ".py",
   "mimetype": "text/x-python",
   "name": "python",
   "nbconvert_exporter": "python",
   "pygments_lexer": "ipython3",
   "version": "3.10.8"
  }
 },
 "nbformat": 4,
 "nbformat_minor": 5
}
